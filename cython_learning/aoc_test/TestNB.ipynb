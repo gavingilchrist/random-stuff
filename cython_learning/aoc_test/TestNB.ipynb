{
 "cells": [
  {
   "cell_type": "code",
   "execution_count": 1,
   "id": "8fb069a9-418d-4661-ba17-cde9d0a8d8c0",
   "metadata": {},
   "outputs": [
    {
     "name": "stdout",
     "output_type": "stream",
     "text": [
      "Pure Python result: 495233\n",
      "Pure Python time: 0.0781 seconds\n",
      "Cython result: 495233\n",
      "Cython time: 0.0084 seconds\n",
      "% of Python time saved: -89.3%\n"
     ]
    }
   ],
   "source": [
    "import time\n",
    "import pure_python_example\n",
    "import cython_example\n",
    "import numpy as np\n",
    "\n",
    "with open('depths.txt', 'r') as f:\n",
    "    depths = [int(i) for i in f.read().split('\\n')]\n",
    "depths_np = np.array(depths, dtype=np.int32)\n",
    "\n",
    "start_time = time.time()\n",
    "result_py = pure_python_example.count_increases_py(depths)\n",
    "end_time = time.time()\n",
    "time_taken_py = end_time - start_time\n",
    "print(f\"Pure Python result: {result_py}\")\n",
    "print(f\"Pure Python time: {time_taken_py:.4f} seconds\")\n",
    "\n",
    "start_time = time.time()\n",
    "result_cy = cython_example.count_increases_cy(depths_np)\n",
    "end_time = time.time()\n",
    "time_taken_cy = end_time - start_time\n",
    "print(f\"Cython result: {result_cy}\")\n",
    "print(f\"Cython time: {time_taken_cy:.4f} seconds\")\n",
    "\n",
    "print(f\"% of Python time saved: {(time_taken_cy / time_taken_py - 1) * 100: .1f}%\")"
   ]
  },
  {
   "cell_type": "code",
   "execution_count": 2,
   "id": "64d98fe5-1443-4c93-8e83-6a19b2e74e8e",
   "metadata": {},
   "outputs": [
    {
     "name": "stdout",
     "output_type": "stream",
     "text": [
      "Numpy result: 495233\n",
      "Numpy time: 0.0043 seconds\n"
     ]
    }
   ],
   "source": [
    "# Pure Numpy\n",
    "start_time = time.time()\n",
    "result_np = np.sum(depths_np[1:] > depths_np[:-1])\n",
    "end_time = time.time()\n",
    "time_taken_np = end_time - start_time\n",
    "print(f\"Numpy result: {result_np}\")\n",
    "print(f\"Numpy time: {time_taken_np:.4f} seconds\")"
   ]
  }
 ],
 "metadata": {
  "kernelspec": {
   "display_name": "Python 3 (ipykernel)",
   "language": "python",
   "name": "python3"
  },
  "language_info": {
   "codemirror_mode": {
    "name": "ipython",
    "version": 3
   },
   "file_extension": ".py",
   "mimetype": "text/x-python",
   "name": "python",
   "nbconvert_exporter": "python",
   "pygments_lexer": "ipython3",
   "version": "3.13.2"
  }
 },
 "nbformat": 4,
 "nbformat_minor": 5
}
