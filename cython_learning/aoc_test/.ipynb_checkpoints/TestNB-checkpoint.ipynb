{
 "cells": [
  {
   "cell_type": "code",
   "execution_count": null,
   "id": "8fb069a9-418d-4661-ba17-cde9d0a8d8c0",
   "metadata": {},
   "outputs": [],
   "source": [
    "import time\n",
    "import pure_python_example\n",
    "import cython_example\n",
    "\n",
    "n = 1000000\n",
    "\n",
    "start_time = time.time()\n",
    "pure_python_example.sum_of_squares_py(n)\n",
    "end_time = time.time()\n",
    "print(f\"Pure Python time: {end_time - start_time:.4f} seconds\")\n",
    "\n",
    "start_time = time.time()\n",
    "cython_example.sum_of_squares_cy(n)\n",
    "end_time = time.time()\n",
    "print(f\"Cython time: {end_time - start_time:.4f} seconds\")"
   ]
  }
 ],
 "metadata": {
  "kernelspec": {
   "display_name": "Python 3 (ipykernel)",
   "language": "python",
   "name": "python3"
  },
  "language_info": {
   "codemirror_mode": {
    "name": "ipython",
    "version": 3
   },
   "file_extension": ".py",
   "mimetype": "text/x-python",
   "name": "python",
   "nbconvert_exporter": "python",
   "pygments_lexer": "ipython3",
   "version": "3.13.2"
  }
 },
 "nbformat": 4,
 "nbformat_minor": 5
}
