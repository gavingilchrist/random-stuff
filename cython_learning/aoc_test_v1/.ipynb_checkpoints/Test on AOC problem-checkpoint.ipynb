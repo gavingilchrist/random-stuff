{
 "cells": [
  {
   "cell_type": "code",
   "execution_count": 1,
   "id": "008a6277-8f33-4674-8060-d2694b0a52e8",
   "metadata": {},
   "outputs": [],
   "source": [
    "import os\n",
    "import sys\n",
    "from datetime import datetime\n",
    "import matplotlib.pyplot as plt"
   ]
  },
  {
   "cell_type": "code",
   "execution_count": 16,
   "id": "d3ced3bd-8bb4-4959-bef3-ba3d7733e0cd",
   "metadata": {},
   "outputs": [],
   "source": [
    "# Create list of depths\n",
    "\n",
    "import random\n",
    "random.seed(1502)\n",
    "depths = [int(random.gauss(225, 27.5)) for i in range(1000000)]\n",
    "with open('depths.txt', 'w') as f:\n",
    "    f.write('\\n'.join([str(i) for i in depths]))"
   ]
  },
  {
   "cell_type": "code",
   "execution_count": 22,
   "id": "ddb2eba0-89f5-49aa-8554-4dd393ef526a",
   "metadata": {},
   "outputs": [],
   "source": [
    "with open('depths.txt', 'r') as f:\n",
    "    depths = [int(i) for i in f.read().split('\\n')]"
   ]
  },
  {
   "cell_type": "code",
   "execution_count": 3,
   "id": "0808e5e8-91df-4d0e-9178-940869132cc9",
   "metadata": {},
   "outputs": [],
   "source": [
    "# BASE VERSION - PYTHON ONLY\n",
    "\n",
    "# Delete any old cython stuff\n",
    "os.system('rm -fR build/ *.c *.pyd *.html')\n",
    "\n",
    "# Re-import solution module\n",
    "if sys.modules.get('solution'):\n",
    "    del(sys.modules['solution'])\n",
    "import solution"
   ]
  },
  {
   "cell_type": "code",
   "execution_count": 4,
   "id": "16b5f86a-56b0-4b7b-ac1e-f2450f84c82c",
   "metadata": {},
   "outputs": [
    {
     "name": "stdout",
     "output_type": "stream",
     "text": [
      "Overall mean: 0.036804 seconds\n",
      "Mid 90% mean: 0.036754 seconds\n",
      "Median: 0.036671 seconds\n"
     ]
    },
    {
     "data": {
      "image/png": "[encoded data removed]",
      "text/plain": [
       "<Figure size 640x480 with 1 Axes>"
      ]
     },
     "metadata": {},
     "output_type": "display_data"
    }
   ],
   "source": [
    "# Measure average execution time - BASIC .PY MODULE\n",
    "n = 100\n",
    "runtimes = []\n",
    "for i in range(n):\n",
    "    timepre = datetime.now()\n",
    "    _ = solution.count_increases(depths)\n",
    "    runtimes += [(datetime.now() - timepre).total_seconds()]\n",
    "\n",
    "print(f'Overall mean: {sum(runtimes) / n:.6f} seconds')\n",
    "print(f'Mid 90% mean: {sum(sorted(runtimes)[int(n*0.05): int(n*0.95)]) / (0.9*n):.6f} seconds')\n",
    "print(f'Median: {sum(sorted(runtimes)[int(n/2-1): int(n/2+1)]) / 2:.6f} seconds')\n",
    "\n",
    "plt.hist(runtimes, bins=10)\n",
    "plt.show()"
   ]
  },
  {
   "cell_type": "code",
   "execution_count": 5,
   "id": "9a064f95-9358-48c3-b003-a48eb36fbc5a",
   "metadata": {},
   "outputs": [],
   "source": [
    "# COMPILE FUNCTION CODE AS C/C++\n",
    "\n",
    "# Create solution.pyx - copy of solution.py\n",
    "os.system('cp solution.py solution.pyx')\n",
    "\n",
    "# Create setup.py\n",
    "txt = \"\"\"from distutils.core import setup\n",
    "from Cython.Build import cythonize\n",
    "import Cython.Compiler.Options\n",
    "\n",
    "Cython.Compiler.Options.annotate = True\n",
    "\n",
    "setup(\n",
    "    ext_modules=cythonize(\n",
    "        'solution.pyx', \n",
    "        compiler_directives={'language_level': '3'},\n",
    "        annotate=True\n",
    "    )\n",
    ")\n",
    "\"\"\"\n",
    "with open('setup.py', 'w') as f:\n",
    "    f.write(txt)\n",
    "\n",
    "# Delete any old cython stuff, compile\n",
    "os.system('rm -fR build/ *.c *.pyd *.html')\n",
    "os.system('python setup.py build_ext --inplace --force')\n",
    "\n",
    "# Re-import solution module\n",
    "if sys.modules.get('solution'):\n",
    "    del(sys.modules['solution'])\n",
    "import solution"
   ]
  },
  {
   "cell_type": "code",
   "execution_count": 6,
   "id": "f5780c19-dbc4-42b8-8917-3a779b2344e2",
   "metadata": {},
   "outputs": [
    {
     "name": "stdout",
     "output_type": "stream",
     "text": [
      "Overall mean: 0.027074 seconds\n",
      "Mid 90% mean: 0.026929 seconds\n",
      "Median: 0.026845 seconds\n"
     ]
    },
    {
     "data": {
      "image/png": "[encoded data removed]",
      "text/plain": [
       "<Figure size 640x480 with 1 Axes>"
      ]
     },
     "metadata": {},
     "output_type": "display_data"
    }
   ],
   "source": [
    "# Measure average execution time - COMPILED .PYX MODULE\n",
    "n = 100\n",
    "runtimes = []\n",
    "for i in range(n):\n",
    "    timepre = datetime.now()\n",
    "    _ = solution.count_increases(depths)\n",
    "    runtimes += [(datetime.now() - timepre).total_seconds()]\n",
    "\n",
    "print(f'Overall mean: {sum(runtimes) / n:.6f} seconds')\n",
    "print(f'Mid 90% mean: {sum(sorted(runtimes)[int(n*0.05): int(n*0.95)]) / (0.9*n):.6f} seconds')\n",
    "print(f'Median: {sum(sorted(runtimes)[int(n/2-1): int(n/2+1)]) / 2:.6f} seconds')\n",
    "\n",
    "plt.hist(runtimes, bins=10)\n",
    "plt.show()"
   ]
  },
  {
   "cell_type": "code",
   "execution_count": 7,
   "id": "40b74e9a-f512-4c73-a6e1-a4566baba243",
   "metadata": {},
   "outputs": [],
   "source": [
    "# ADD C TYPES TO FUNCTION CODE\n",
    "\n",
    "# Update solution.pyx with C types, function defs\n",
    "txt = \"\"\"cpdef int count_increases(list depths):\n",
    "    cdef int increase_counter, current_depth, depth\n",
    "    current_depth = depths[0]\n",
    "    increase_counter = 0\n",
    "    for depth in depths[1:]:\n",
    "        if depth > current_depth:\n",
    "            increase_counter += 1\n",
    "        current_depth = depth\n",
    "    return increase_counter\n",
    "\"\"\"\n",
    "with open('solution.pyx', 'w') as f:\n",
    "    f.write(txt)\n",
    "\n",
    "# Delete any old cython stuff, compile\n",
    "os.system('rm -fR build/ *.c *.pyd *.html')\n",
    "os.system('python setup.py build_ext --inplace --force')\n",
    "\n",
    "# Re-import solution module\n",
    "if sys.modules.get('solution'):\n",
    "    del(sys.modules['solution'])\n",
    "import solution"
   ]
  },
  {
   "cell_type": "code",
   "execution_count": 8,
   "id": "c789d5ef-3657-4b81-a972-85e14a4f4a73",
   "metadata": {},
   "outputs": [
    {
     "name": "stdout",
     "output_type": "stream",
     "text": [
      "Overall mean: 0.026813 seconds\n",
      "Mid 90% mean: 0.026509 seconds\n",
      "Median: 0.026368 seconds\n"
     ]
    },
    {
     "data": {
      "image/png": "[encoded data removed]",
      "text/plain": [
       "<Figure size 640x480 with 1 Axes>"
      ]
     },
     "metadata": {},
     "output_type": "display_data"
    }
   ],
   "source": [
    "# Measure average execution time - COMPILED .PYX MODULE, C VARIABLE TYPES\n",
    "n = 100\n",
    "runtimes = []\n",
    "for i in range(n):\n",
    "    timepre = datetime.now()\n",
    "    _ = solution.count_increases(depths)\n",
    "    runtimes += [(datetime.now() - timepre).total_seconds()]\n",
    "\n",
    "print(f'Overall mean: {sum(runtimes) / n:.6f} seconds')\n",
    "print(f'Mid 90% mean: {sum(sorted(runtimes)[int(n*0.05): int(n*0.95)]) / (0.9*n):.6f} seconds')\n",
    "print(f'Median: {sum(sorted(runtimes)[int(n/2-1): int(n/2+1)]) / 2:.6f} seconds')\n",
    "\n",
    "plt.hist(runtimes, bins=10)\n",
    "plt.show()"
   ]
  },
  {
   "cell_type": "code",
   "execution_count": 9,
   "id": "7e410158-dc44-4609-9f5f-5976907c7d1a",
   "metadata": {},
   "outputs": [],
   "source": [
    "# ADD NUMPY\n",
    "\n",
    "# Update setup.py\n",
    "txt = \"\"\"from distutils.core import setup\n",
    "from Cython.Build import cythonize\n",
    "import Cython.Compiler.Options\n",
    "import numpy as np\n",
    "\n",
    "Cython.Compiler.Options.annotate = True\n",
    "\n",
    "setup(\n",
    "    ext_modules=cythonize(\n",
    "        'solution.pyx', \n",
    "        compiler_directives={'language_level': '3'},\n",
    "        annotate=True\n",
    "    ),\n",
    "include_dirs=[np.get_include()]\n",
    ")\n",
    "\"\"\"\n",
    "with open('setup.py', 'w') as f:\n",
    "    f.write(txt)\n",
    "\n",
    "# Update solution.pyx\n",
    "txt = \"\"\"cpdef int count_increases(int[:] depths):\n",
    "    cdef int increase_counter, current_depth, depth, length, i\n",
    "    length = depths.shape[0]\n",
    "    current_depth = depths[0]\n",
    "    increase_counter = 0\n",
    "    for i in range(1, length):\n",
    "        if depths[i] > current_depth:\n",
    "            increase_counter += 1\n",
    "        current_depth = depths[i]\n",
    "    return increase_counter\n",
    "\"\"\"\n",
    "with open('solution.pyx', 'w') as f:\n",
    "    f.write(txt)\n",
    "\n",
    "# Delete any old cython stuff, compile\n",
    "os.system('rm -fR build/ *.c *.pyd *.html')\n",
    "os.system('python setup.py build_ext --inplace --force')\n",
    "\n",
    "# Re-import solution module\n",
    "if sys.modules.get('solution'):\n",
    "    del(sys.modules['solution'])\n",
    "import solution"
   ]
  },
  {
   "cell_type": "code",
   "execution_count": 10,
   "id": "51563c7b-dc92-4ee1-ad35-81e2eaa7591d",
   "metadata": {},
   "outputs": [
    {
     "name": "stdout",
     "output_type": "stream",
     "text": [
      "Overall mean: 0.026091 seconds\n",
      "Mid 90% mean: 0.025837 seconds\n",
      "Median: 0.025712 seconds\n"
     ]
    },
    {
     "data": {
      "image/png": "[encoded data removed]",
      "text/plain": [
       "<Figure size 640x480 with 1 Axes>"
      ]
     },
     "metadata": {},
     "output_type": "display_data"
    }
   ],
   "source": [
    "# Measure average execution time - COMPILED .PYX MODULE, C VARIABLE TYPES, NUMPY\n",
    "n = 100\n",
    "runtimes = []\n",
    "for i in range(n):\n",
    "    timepre = datetime.now()\n",
    "    _ = solution.count_increases(depths)\n",
    "    runtimes += [(datetime.now() - timepre).total_seconds()]\n",
    "\n",
    "print(f'Overall mean: {sum(runtimes) / n:.6f} seconds')\n",
    "print(f'Mid 90% mean: {sum(sorted(runtimes)[int(n*0.05): int(n*0.95)]) / (0.9*n):.6f} seconds')\n",
    "print(f'Median: {sum(sorted(runtimes)[int(n/2-1): int(n/2+1)]) / 2:.6f} seconds')\n",
    "\n",
    "plt.hist(runtimes, bins=10)\n",
    "plt.show()"
   ]
  }
 ],
 "metadata": {
  "kernelspec": {
   "display_name": "Python 3 (ipykernel)",
   "language": "python",
   "name": "python3"
  },
  "language_info": {
   "codemirror_mode": {
    "name": "ipython",
    "version": 3
   },
   "file_extension": ".py",
   "mimetype": "text/x-python",
   "name": "python",
   "nbconvert_exporter": "python",
   "pygments_lexer": "ipython3",
   "version": "3.13.2"
  }
 },
 "nbformat": 4,
 "nbformat_minor": 5
}
