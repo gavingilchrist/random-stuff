{
 "cells": [
  {
   "cell_type": "code",
   "execution_count": 40,
   "id": "f28c4fe4-d737-4f3e-bfe0-afb41f670828",
   "metadata": {},
   "outputs": [
    {
     "name": "stdout",
     "output_type": "stream",
     "text": [
      "Pure Python result: 33173325228471\n",
      "Pure Python time: 0.0025 seconds\n",
      "Cython result: 33169030261175\n",
      "Cython time: 0.0001 seconds\n",
      "% of Python time saved: -97.8%\n"
     ]
    }
   ],
   "source": [
    "import time\n",
    "import pure_python_example\n",
    "import cython_example\n",
    "\n",
    "n = 1000000\n",
    "\n",
    "start_time = time.time()\n",
    "result_py = pure_python_example.sum_of_squares_py(n)\n",
    "end_time = time.time()\n",
    "time_taken_py = end_time - start_time\n",
    "print(f\"Pure Python result: {result_py}\")\n",
    "print(f\"Pure Python time: {time_taken_py:.4f} seconds\")\n",
    "\n",
    "start_time = time.time()\n",
    "result_cy = cython_example.sum_of_squares_cy(n)\n",
    "end_time = time.time()\n",
    "time_taken_cy = end_time - start_time\n",
    "print(f\"Cython result: {result_cy}\")\n",
    "print(f\"Cython time: {time_taken_cy:.4f} seconds\")\n",
    "\n",
    "print(f\"% of Python time saved: {(time_taken_cy / time_taken_py - 1) * 100: .1f}%\")"
   ]
  }
 ],
 "metadata": {
  "kernelspec": {
   "display_name": "Python 3 (ipykernel)",
   "language": "python",
   "name": "python3"
  },
  "language_info": {
   "codemirror_mode": {
    "name": "ipython",
    "version": 3
   },
   "file_extension": ".py",
   "mimetype": "text/x-python",
   "name": "python",
   "nbconvert_exporter": "python",
   "pygments_lexer": "ipython3",
   "version": "3.13.2"
  }
 },
 "nbformat": 4,
 "nbformat_minor": 5
}
