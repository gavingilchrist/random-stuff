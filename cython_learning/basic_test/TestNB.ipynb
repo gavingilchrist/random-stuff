{
 "cells": [
  {
   "cell_type": "code",
   "execution_count": 1,
   "id": "f28c4fe4-d737-4f3e-bfe0-afb41f670828",
   "metadata": {},
   "outputs": [
    {
     "name": "stdout",
     "output_type": "stream",
     "text": [
      "Pure Python result: 333332833333500000\n",
      "Pure Python time: 0.0893 seconds\n",
      "Cython result: 333332833333500000\n",
      "Cython time: 0.0006 seconds\n",
      "% of Python time saved: -99.4%\n"
     ]
    }
   ],
   "source": [
    "import time\n",
    "import pure_python_example\n",
    "import cython_example\n",
    "import numpy as np\n",
    "\n",
    "n = 1000000\n",
    "\n",
    "start_time = time.time()\n",
    "result_py = pure_python_example.sum_of_squares_py(n)\n",
    "end_time = time.time()\n",
    "time_taken_py = end_time - start_time\n",
    "print(f\"Pure Python result: {result_py}\")\n",
    "print(f\"Pure Python time: {time_taken_py:.4f} seconds\")\n",
    "\n",
    "start_time = time.time()\n",
    "result_cy = cython_example.sum_of_squares_cy(n)\n",
    "end_time = time.time()\n",
    "time_taken_cy = end_time - start_time\n",
    "print(f\"Cython result: {result_cy}\")\n",
    "print(f\"Cython time: {time_taken_cy:.4f} seconds\")\n",
    "\n",
    "print(f\"% of Python time saved: {(time_taken_cy / time_taken_py - 1) * 100: .1f}%\")"
   ]
  },
  {
   "cell_type": "code",
   "execution_count": 2,
   "id": "786ceeff-f7f5-4de8-8286-4784f25342e0",
   "metadata": {},
   "outputs": [
    {
     "name": "stdout",
     "output_type": "stream",
     "text": [
      "Numpy result: 333332833333500000\n",
      "Numpy time: 0.0150 seconds\n"
     ]
    }
   ],
   "source": [
    "# Pure Numpy\n",
    "start_time = time.time()\n",
    "result_np = np.sum(np.arange(n) ** 2)\n",
    "end_time = time.time()\n",
    "time_taken_np = end_time - start_time\n",
    "print(f\"Numpy result: {result_np}\")\n",
    "print(f\"Numpy time: {time_taken_np:.4f} seconds\")"
   ]
  }
 ],
 "metadata": {
  "kernelspec": {
   "display_name": "Python 3 (ipykernel)",
   "language": "python",
   "name": "python3"
  },
  "language_info": {
   "codemirror_mode": {
    "name": "ipython",
    "version": 3
   },
   "file_extension": ".py",
   "mimetype": "text/x-python",
   "name": "python",
   "nbconvert_exporter": "python",
   "pygments_lexer": "ipython3",
   "version": "3.13.2"
  }
 },
 "nbformat": 4,
 "nbformat_minor": 5
}
