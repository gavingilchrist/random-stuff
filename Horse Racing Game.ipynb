{
 "cells": [
  {
   "cell_type": "code",
   "execution_count": 13,
   "id": "34d22d46-26c7-4130-b287-43dd89a202db",
   "metadata": {},
   "outputs": [],
   "source": [
    "from random import randint"
   ]
  },
  {
   "cell_type": "code",
   "execution_count": 71,
   "id": "c8d40a18-c57d-4959-8899-a2f60503920e",
   "metadata": {},
   "outputs": [],
   "source": [
    "def race(positions=None):\n",
    "    positions=positions or [3,6,8,11,14,17,14,11,8,6,3]\n",
    "    if min(positions):\n",
    "        return race([[j,j-1][i==z] for z in[random.randint(1,6)+random.randint(1,6)]for i,j in enumerate(positions,2)])\n",
    "    else:\n",
    "        return positions.index(0)+2, 101-sum(positions)"
   ]
  },
  {
   "cell_type": "code",
   "execution_count": 86,
   "id": "44caea57",
   "metadata": {},
   "outputs": [
    {
     "data": {
      "text/plain": [
       "(4, 71)"
      ]
     },
     "execution_count": 86,
     "metadata": {},
     "output_type": "execute_result"
    }
   ],
   "source": [
    "race()"
   ]
  },
  {
   "cell_type": "code",
   "execution_count": 90,
   "id": "0d083a34",
   "metadata": {},
   "outputs": [],
   "source": [
    "results={}\n",
    "for i in range(10000):  results[z] = results.get((z:=race()[1]), 0) + 1"
   ]
  },
  {
   "cell_type": "code",
   "execution_count": 91,
   "id": "e6aabb9d",
   "metadata": {},
   "outputs": [
    {
     "name": "stdout",
     "output_type": "stream",
     "text": [
      "5 2\n",
      "6 3\n",
      "7 4\n",
      "8 8\n",
      "9 10\n",
      "10 15\n",
      "11 20\n",
      "12 21\n",
      "13 26\n",
      "14 24\n",
      "15 20\n",
      "16 32\n",
      "17 33\n",
      "18 46\n",
      "19 44\n",
      "20 53\n",
      "21 53\n",
      "22 61\n",
      "23 56\n",
      "24 73\n",
      "25 79\n",
      "26 84\n",
      "27 85\n",
      "28 94\n",
      "29 96\n",
      "30 112\n",
      "31 113\n",
      "32 129\n",
      "33 141\n",
      "34 135\n",
      "35 160\n",
      "36 164\n",
      "37 152\n",
      "38 182\n",
      "39 163\n",
      "40 200\n",
      "41 197\n",
      "42 176\n",
      "43 210\n",
      "44 236\n",
      "45 238\n",
      "46 248\n",
      "47 264\n",
      "48 256\n",
      "49 266\n",
      "50 280\n",
      "51 260\n",
      "52 261\n",
      "53 272\n",
      "54 284\n",
      "55 247\n",
      "56 267\n",
      "57 248\n",
      "58 283\n",
      "59 263\n",
      "60 229\n",
      "61 247\n",
      "62 241\n",
      "63 228\n",
      "64 222\n",
      "65 200\n",
      "66 193\n",
      "67 139\n",
      "68 173\n",
      "69 131\n",
      "70 115\n",
      "71 88\n",
      "72 71\n",
      "73 73\n",
      "74 46\n",
      "75 47\n",
      "76 41\n",
      "77 25\n",
      "78 16\n",
      "79 10\n",
      "80 9\n",
      "81 2\n",
      "82 1\n",
      "83 3\n",
      "84 1\n"
     ]
    }
   ],
   "source": [
    "for i in sorted(results):\n",
    "    print(i,results[i])"
   ]
  },
  {
   "cell_type": "code",
   "execution_count": null,
   "id": "aeb36048",
   "metadata": {},
   "outputs": [],
   "source": [
    "# Chance of horse 2 winning on move 40\n",
    "# P(Roll 2 on Move 40)\n",
    "# P(Roll 2 2x in 39 moves)\n"
   ]
  },
  {
   "cell_type": "code",
   "execution_count": 3,
   "id": "fbcee8bd-d1e4-4701-8e88-620025f54de8",
   "metadata": {},
   "outputs": [
    {
     "data": {
      "text/plain": [
       "[0.30235316878142704, 0.3952936624371459, 0.30235316878142704]"
      ]
     },
     "execution_count": 3,
     "metadata": {},
     "output_type": "execute_result"
    }
   ],
   "source": [
    "known = dict()\n",
    "def get_win_probs(pos=None):\n",
    "    if pos is None:\n",
    "        pos = start_pos\n",
    "    if 0 in pos:\n",
    "        return [float(i == 0) for i in pos]\n",
    "    else:\n",
    "        dkey = ''.join([chr(i+64) for i in pos])\n",
    "        if dkey not in known:\n",
    "            known[dkey] = [sum(i) \n",
    "                           for i in zip(*[[j*move_probs[i] \n",
    "                                            for j in get_win_probs([k-1 if j == i else k \n",
    "                                                                    for j, k in enumerate(pos)])]\n",
    "                                           for i in range(len(move_probs))])]            \n",
    "\n",
    "        return known[dkey]\n",
    "\n",
    "get_win_probs()"
   ]
  },
  {
   "cell_type": "code",
   "execution_count": 48,
   "id": "217530ee-4ab0-470f-bae9-348aef60d673",
   "metadata": {},
   "outputs": [
    {
     "data": {
      "text/plain": [
       "{'AAA': [0.2777777777777778, 0.4444444444444444, 0.2777777777777778],\n",
       " 'AAB': [0.3549382716049383, 0.5679012345679012, 0.0771604938271605],\n",
       " 'AAC': [0.37637174211248287, 0.6021947873799726, 0.021433470507544586],\n",
       " 'ABA': [0.4012345679012346, 0.19753086419753085, 0.4012345679012346],\n",
       " 'ABB': [0.5469821673525377, 0.3072702331961591, 0.14574759945130317],\n",
       " 'ABC': [0.5969935985368084, 0.3529949702789209, 0.0500114311842707],\n",
       " 'ACA': [0.4561042524005487, 0.0877914951989026, 0.4561042524005487],\n",
       " 'ACB': [0.6475765889346137, 0.16095107453132143, 0.19147233653406492],\n",
       " 'ACC': [0.7229906518315298, 0.20159528527155413, 0.07541406289691613],\n",
       " 'ADA': [0.48049077884468827, 0.039018442310623375, 0.48049077884468827],\n",
       " 'ADB': [0.6990592558722417, 0.08237226710020491, 0.21856847702755336],\n",
       " 'ADC': [0.793290083000747, 0.11247908987074764, 0.09423082712850532],\n",
       " 'BAA': [0.0771604938271605, 0.5679012345679012, 0.3549382716049383],\n",
       " 'BAB': [0.12002743484224968, 0.7599451303155007, 0.12002743484224968],\n",
       " 'BAC': [0.1378886602652035, 0.8228166438042981, 0.039294695930498405],\n",
       " 'BBA': [0.14574759945130317, 0.3072702331961591, 0.5469821673525377],\n",
       " 'BBB': [0.24577046181984452, 0.508459076360311, 0.24577046181984452],\n",
       " 'BBC': [0.29538497688360515, 0.6049890768683636, 0.0996259462480313],\n",
       " 'BCA': [0.19147233653406492, 0.16095107453132143, 0.6475765889346137],\n",
       " 'BCB': [0.3423004623278972, 0.31539907534420564, 0.3423004623278972],\n",
       " 'BCC': [0.42719641032588757, 0.412493578779206, 0.16031001089490649],\n",
       " 'BDA': [0.21856847702755336, 0.08237226710020491, 0.6990592558722417],\n",
       " 'BDB': [0.40703013128456406, 0.1859397374308719, 0.40703013128456406],\n",
       " 'BDC': [0.5232873530018698, 0.2662245981523192, 0.21048804884581104],\n",
       " 'CAA': [0.021433470507544586, 0.6021947873799726, 0.37637174211248287],\n",
       " 'CAB': [0.039294695930498405, 0.8228166438042981, 0.1378886602652035],\n",
       " 'CAC': [0.04921759894325053, 0.901564802113499, 0.04921759894325053],\n",
       " 'CBA': [0.0500114311842707, 0.3529949702789209, 0.5969935985368084],\n",
       " 'CBB': [0.0996259462480313, 0.6049890768683636, 0.29538497688360515],\n",
       " 'CBC': [0.13159974484467704, 0.7368005103106459, 0.13159974484467704],\n",
       " 'CCA': [0.07541406289691613, 0.20159528527155413, 0.7229906518315298],\n",
       " 'CCB': [0.16031001089490649, 0.412493578779206, 0.42719641032588757],\n",
       " 'CCC': [0.22168500360341037, 0.5566299927931793, 0.22168500360341037],\n",
       " 'CDA': [0.09423082712850532, 0.11247908987074764, 0.793290083000747],\n",
       " 'CDB': [0.21048804884581104, 0.2662245981523192, 0.5232873530018698],\n",
       " 'CDC': [0.30235316878142704, 0.3952936624371459, 0.30235316878142704]}"
      ]
     },
     "execution_count": 48,
     "metadata": {},
     "output_type": "execute_result"
    }
   ],
   "source": [
    "known"
   ]
  },
  {
   "cell_type": "code",
   "execution_count": 15,
   "id": "72155ec5-85d2-42a6-bd88-6e1fa0c6cbcb",
   "metadata": {},
   "outputs": [
    {
     "data": {
      "text/plain": [
       "array([[0, 0.301622],\n",
       "       [1, 0.395109],\n",
       "       [2, 0.303269]], dtype=object)"
      ]
     },
     "execution_count": 15,
     "metadata": {},
     "output_type": "execute_result"
    }
   ],
   "source": [
    "# Simulation\n",
    "ntrials = 1000000\n",
    "\n",
    "rnd_thresh = np.expand_dims(np.cumsum(move_probs), 0)\n",
    "scenarios = np.stack([start_pos]*ntrials)\n",
    "game_on = np.arange(ntrials)\n",
    "\n",
    "while game_on.shape[0]:\n",
    "    mvix = np.min(np.where(np.random.random((game_on.shape[0], 1)) < rnd_thresh, \n",
    "                           np.expand_dims(np.arange(rnd_thresh.shape[1]), 0), \n",
    "                           rnd_thresh.shape[1]), axis=1)\n",
    "    scenarios[game_on, mvix] -= 1\n",
    "    game_on = game_on[scenarios[game_on, mvix] != 0]\n",
    "\n",
    "v, c = np.unique(np.sum(np.where(scenarios == 0, \n",
    "                                 np.expand_dims(np.arange(len(start_pos)), 0), \n",
    "                                 0), \n",
    "                        axis=1),\n",
    "                 return_counts=True)\n",
    "c = c / np.sum(c)\n",
    "\n",
    "np.column_stack((v.astype(object), c.astype(object)))"
   ]
  },
  {
   "cell_type": "code",
   "execution_count": 22,
   "id": "9fd2196a-68c5-4385-8c52-5b66c6b69556",
   "metadata": {},
   "outputs": [
    {
     "data": {
      "text/plain": [
       "(0.2777777777777778, 3, 1)"
      ]
     },
     "execution_count": 22,
     "metadata": {},
     "output_type": "execute_result"
    }
   ],
   "source": [
    "# Probability of horse 1 winning on 6th turn\n",
    "t = 1\n",
    "h = 0\n",
    "move_probs[h], start_pos[h], t"
   ]
  },
  {
   "cell_type": "code",
   "execution_count": 53,
   "id": "50c3d588-b7b8-4dbd-a8db-53763a7f5348",
   "metadata": {},
   "outputs": [
    {
     "data": {
      "text/plain": [
       "array([1.00000000e+00, 2.77777778e-01, 7.71604938e-02, 2.14334705e-02,\n",
       "       5.95374181e-03, 1.65381717e-03, 4.59393658e-04, 1.27609349e-04,\n",
       "       3.54470415e-05, 9.84640042e-06, 2.73511123e-06, 7.59753119e-07,\n",
       "       2.11042533e-07, 5.86229258e-08, 1.62841461e-08, 4.52337391e-09,\n",
       "       1.25649275e-09, 3.49025764e-10, 9.69516012e-11, 2.69310003e-11,\n",
       "       7.48083343e-12, 2.07800929e-12, 5.77224802e-13, 1.60340223e-13,\n",
       "       4.45389507e-14, 1.23719308e-14, 3.43664743e-15, 9.54624287e-16,\n",
       "       2.65173413e-16, 7.36592814e-17, 2.04609115e-17, 5.68358653e-18,\n",
       "       1.57877404e-18, 4.38548343e-19, 1.21818984e-19, 3.38386067e-20,\n",
       "       9.39961298e-21, 2.61100361e-21, 7.25278779e-22, 2.01466328e-22,\n",
       "       5.59628688e-23, 1.55452413e-23, 4.31812259e-24, 1.19947850e-24,\n",
       "       3.33188472e-25, 9.25523532e-26, 2.57089870e-26, 7.14138528e-27,\n",
       "       1.98371813e-27, 5.51032815e-28, 1.53064671e-28, 4.25179641e-29,\n",
       "       1.18105456e-29, 3.28070711e-30, 9.11307530e-31, 2.53140980e-31,\n",
       "       7.03169390e-32, 1.95324831e-32, 5.42568974e-33, 1.50713604e-33,\n",
       "       4.18648900e-34, 1.16291361e-34, 3.23031558e-35, 8.97309884e-36,\n",
       "       2.49252746e-36, 6.92368738e-37, 1.92324649e-37, 5.34235137e-38,\n",
       "       1.48398649e-38, 4.12218470e-39, 1.14505131e-39, 3.18069807e-40,\n",
       "       8.83527242e-41, 2.45424234e-41, 6.81733983e-42, 1.89370551e-42,\n",
       "       5.26029308e-43, 1.46119252e-43, 4.05886812e-44, 1.12746337e-44,\n",
       "       3.13184268e-45, 8.69956301e-46, 2.41654528e-46, 6.71262578e-47,\n",
       "       1.86461827e-47, 5.17949520e-48, 1.43874867e-48, 3.99652407e-49,\n",
       "       1.11014558e-49, 3.08373771e-50, 8.56593808e-51, 2.37942725e-51,\n",
       "       6.60952013e-52, 1.83597781e-52, 5.09993837e-53, 1.41664955e-53,\n",
       "       3.93513763e-54, 1.09309379e-54, 3.03637163e-55, 8.43436564e-56])"
      ]
     },
     "execution_count": 53,
     "metadata": {},
     "output_type": "execute_result"
    }
   ],
   "source": [
    "(move_probs[h] ** np.arange(100)) * ((1-move_probs[h]) ** (t-start_pos[h]))"
   ]
  },
  {
   "cell_type": "code",
   "execution_count": 47,
   "id": "de67ce5c-0795-4573-b800-1e87bec393a5",
   "metadata": {},
   "outputs": [
    {
     "data": {
      "text/plain": [
       "array([0.        , 0.        , 0.02143347, 0.06787266, 0.13495148,\n",
       "       0.21569451, 0.30316613, 0.39160965, 0.47677748])"
      ]
     },
     "execution_count": 47,
     "metadata": {},
     "output_type": "execute_result"
    }
   ],
   "source": [
    "tv1 = [[((move_probs[h] ** start_pos[h]) \n",
    "         * ((1-move_probs[h]) ** (t-start_pos[h]))\n",
    "         * n_choose_m(t-1, start_pos[h]-1))\n",
    "        for h in range(1)] #len(start_pos))]\n",
    "       for t in range(1, 10)]\n",
    "np.cumsum(tv1)"
   ]
  },
  {
   "cell_type": "code",
   "execution_count": 50,
   "id": "e5f5e8b6-e8b1-4ca7-bf40-a16121db6b5c",
   "metadata": {},
   "outputs": [
    {
     "data": {
      "text/plain": [
       "[0.19649623617673456,\n",
       " 0.3778773772629511,\n",
       " 0.2906749055868855,\n",
       " 0.11179804061034057,\n",
       " 0.021499623194296266,\n",
       " 0.0016538171687920206]"
      ]
     },
     "execution_count": 50,
     "metadata": {},
     "output_type": "execute_result"
    }
   ],
   "source": [
    "tv2 = [(move_probs[0] ** i) * ((1-move_probs[0]) ** (5-i)) * n_choose_m(5, i) for i in range(6)]\n",
    "tv2"
   ]
  },
  {
   "cell_type": "code",
   "execution_count": 51,
   "id": "f5856a30-f0e5-421a-9a8a-68d10c669229",
   "metadata": {},
   "outputs": [
    {
     "data": {
      "text/plain": [
       "0.08074302932969042"
      ]
     },
     "execution_count": 51,
     "metadata": {},
     "output_type": "execute_result"
    }
   ],
   "source": [
    "tv2[2] * move_probs[h]"
   ]
  },
  {
   "cell_type": "code",
   "execution_count": null,
   "id": "ae101ed3-6810-4c58-906c-92d80a196eee",
   "metadata": {},
   "outputs": [],
   "source": [
    "def p_no_other_winner(nturns, horses):\n",
    "    if len(horses) == 0:\n",
    "        return float(nturns == 0.)\n",
    "    else:\n",
    "        pickprob = move_probs[horses[0]] / sum([move_probs[i] for i in horses])\n",
    "        return sum([p_npicks(pickprob, nturns, i)\n",
    "                    * p_no_other_winner(nturns-i, horses[1:])\n",
    "                    for i in range(min(nturns, start_pos[horses[0]])+1)])"
   ]
  },
  {
   "cell_type": "code",
   "execution_count": null,
   "id": "b8c37e06-9f38-4e46-81ae-75145ac4a100",
   "metadata": {},
   "outputs": [],
   "source": [
    "nturns = 7\n",
    "horses = []\n",
    "p_no_other_winner(nturns, horses)"
   ]
  },
  {
   "cell_type": "code",
   "execution_count": null,
   "id": "3a58e9d6-4b80-4a52-b445-bf1686ef3d80",
   "metadata": {},
   "outputs": [],
   "source": []
  },
  {
   "cell_type": "code",
   "execution_count": null,
   "id": "fd113436-b2f3-4e66-9151-de2dba1f07d1",
   "metadata": {},
   "outputs": [],
   "source": [
    "pickprob = move_probs[horses[0]] / sum([move_probs[i] for i in horses])\n",
    "pickprob"
   ]
  },
  {
   "cell_type": "code",
   "execution_count": null,
   "id": "a5fcd854-6423-4368-a412-171cef314438",
   "metadata": {},
   "outputs": [],
   "source": [
    "for i in range(nturns+1):\n",
    "    if i < start_pos[horses[0]]:\n",
    "        print(i, p_npicks(pickprob, nturns, i))"
   ]
  },
  {
   "cell_type": "code",
   "execution_count": null,
   "id": "4ccbc767-51d4-432e-9ab6-8def5d79d721",
   "metadata": {},
   "outputs": [],
   "source": [
    "((ppick ** npicks) \n",
    "            * ((1-ppick) ** (nturns-npicks))\n",
    "            * n_choose_m(nturns, npicks))"
   ]
  },
  {
   "cell_type": "code",
   "execution_count": null,
   "id": "98dbb7ac-3926-4214-808b-7289286a3188",
   "metadata": {},
   "outputs": [],
   "source": [
    "p_npicks(move_probs[horses[0]] / sum([move_probs[i] for i in horses]), \n",
    "                             nturns, i)"
   ]
  },
  {
   "cell_type": "code",
   "execution_count": null,
   "id": "e087f5af-de6f-4477-b5a1-c531294e6580",
   "metadata": {},
   "outputs": [],
   "source": [
    "p_no_other_winner(nturns-i, horses[1:])"
   ]
  },
  {
   "cell_type": "code",
   "execution_count": null,
   "id": "c735b5d9-535b-46ee-844c-df21c2819bef",
   "metadata": {},
   "outputs": [],
   "source": [
    "[p_npicks(move_probs[horses[0]] / sum([move_probs[i] for i in horses]), \n",
    "                             nturns, i) \n",
    "                    * p_no_other_winner(nturns-i, horses[1:])\n",
    "                    for i in range(min(nturns, start_pos[horses[0]])+1)]"
   ]
  },
  {
   "cell_type": "code",
   "execution_count": null,
   "id": "d81367ed-148c-456d-a43a-77cbbf47d755",
   "metadata": {},
   "outputs": [],
   "source": [
    "sum([p_npicks(horses[0], nturns, i) * p_no_other_winner(nturns-i, horses[1:])\n",
    " for i in range(min(nturns, start_pos[horses[0]]))])"
   ]
  },
  {
   "cell_type": "code",
   "execution_count": null,
   "id": "ed0f2e58-0391-4588-86a9-81a7c57e759a",
   "metadata": {},
   "outputs": [],
   "source": [
    "# Probability of horse 10 having been picked 0 times in prior 49 turns\n",
    "p_npicks(10, 1, 0)"
   ]
  },
  {
   "cell_type": "code",
   "execution_count": null,
   "id": "c23f7325-f37c-4bb0-b73d-e65e97e86317",
   "metadata": {},
   "outputs": [],
   "source": [
    "move_probs[10]"
   ]
  },
  {
   "cell_type": "code",
   "execution_count": null,
   "id": "aab724ba-6b38-471b-a843-a6deb969762e",
   "metadata": {},
   "outputs": [],
   "source": [
    "n = 49\n",
    "m = 10"
   ]
  },
  {
   "cell_type": "code",
   "execution_count": null,
   "id": "ed3050fd-c338-4733-a483-6932451e77ed",
   "metadata": {},
   "outputs": [],
   "source": [
    "n_choose_m(t-1, start_pos[3]-1)"
   ]
  },
  {
   "cell_type": "code",
   "execution_count": 18,
   "id": "4f7d42ae-6ba9-46c5-9e41-8c4b2163e944",
   "metadata": {},
   "outputs": [],
   "source": [
    "def n_choose_m(n, m):\n",
    "    r = 1\n",
    "    for i in range(m):\n",
    "        r *= (n-i)/(m-i)\n",
    "    return round(r)\n",
    "\n",
    "def p_npicks(ppick, nturns, npicks):\n",
    "    return ((ppick ** npicks) \n",
    "            * ((1-ppick) ** (nturns-npicks))\n",
    "            * n_choose_m(nturns, npicks))"
   ]
  },
  {
   "cell_type": "code",
   "execution_count": null,
   "id": "f50fff1f-c503-4820-9c0b-4a1d1296b86d",
   "metadata": {},
   "outputs": [],
   "source": [
    "tv1 = np.random.random((1000000, 3))"
   ]
  },
  {
   "cell_type": "code",
   "execution_count": null,
   "id": "38e9da18-bfdf-4e14-80f0-40687d254c2c",
   "metadata": {},
   "outputs": [],
   "source": [
    "tv2 = np.where(tv1 < 0.5, 'A', np.where(tv1 < 0.8, 'B', 'C')).reshape(-1).view('<U3')\n",
    "tv2"
   ]
  }
 ],
 "metadata": {
  "kernelspec": {
   "display_name": "base",
   "language": "python",
   "name": "python3"
  },
  "language_info": {
   "codemirror_mode": {
    "name": "ipython",
    "version": 3
   },
   "file_extension": ".py",
   "mimetype": "text/x-python",
   "name": "python",
   "nbconvert_exporter": "python",
   "pygments_lexer": "ipython3",
   "version": "3.12.3"
  }
 },
 "nbformat": 4,
 "nbformat_minor": 5
}
