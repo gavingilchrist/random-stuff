{
 "cells": [
  {
   "cell_type": "code",
   "execution_count": 1,
   "id": "52f199c8-37f6-4e32-8ce9-12ac67f5f7f1",
   "metadata": {},
   "outputs": [],
   "source": [
    "import os\n",
    "import subprocess\n",
    "import numpy as np\n",
    "import pandas as pd\n",
    "\n",
    "def get_raw_lsl(path):\n",
    "    \"\"\"\n",
    "    Returns list of files/folders at path, excluding links.\n",
    "    \"\"\"\n",
    "    lnk = [i.split()[8].split('->')[0].strip()\n",
    "           for i in subprocess.run([\"ls\", \"-la\", path], \n",
    "                                   capture_output=True, \n",
    "                                   text=True).stdout.split('\\n')\n",
    "           if len(i.split()) >= 8 and '->' in i]\n",
    "    return np.array([[i[i.index(i.split()[7])+5:].strip(),\n",
    "                      int(i.split()[4]),\n",
    "                      i.split()[0].startswith('d')]\n",
    "                     for i in subprocess.run([\"ls\", \"-Lla\", path], \n",
    "                                             capture_output=True, \n",
    "                                             text=True).stdout.split('\\n') \n",
    "                     if len(i.split()) >= 8 \n",
    "                        and i.split()[8] not in ['.', '..', *lnk]],\n",
    "                    dtype=object)\n",
    "\n",
    "def get_directory_size(path):\n",
    "    \"\"\"\n",
    "    Calculates the total size of a directory, including all subdirectories and files \n",
    "    but excluding linked folders/files.\n",
    "    \"\"\"\n",
    "    total_size = 0\n",
    "    dlinks = []\n",
    "    for dirpath, dirnames, filenames in os.walk(path):\n",
    "        if dirpath.split('\\\\')[-1] not in [i[0] for i in get_raw_lsl('\\\\'.join(dirpath.split('\\\\')[:-1]))]:\n",
    "            dlinks += [dirpath]\n",
    "        elif not any([dirpath.startswith(i) for i in dlinks]):        \n",
    "            for f in filenames:\n",
    "                fp = os.path.join(dirpath, f)\n",
    "                if not os.path.islink(fp):\n",
    "                    try:\n",
    "                        total_size += os.path.getsize(fp)\n",
    "                    except:\n",
    "                        pass    \n",
    "    return total_size\n",
    "\n",
    "known = dict()\n",
    "def space(path, refresh=False):\n",
    "    \"\"\"\n",
    "    Returns list of files/folders at path, excluding links, with total size of each.\n",
    "    \"\"\"\n",
    "    path = os.path.normpath(path)\n",
    "    if path not in known or refresh:\n",
    "        raw_lsl = get_raw_lsl(path)\n",
    "        filt = raw_lsl[:, 2].astype(bool)\n",
    "        raw_lsl[filt, 1] = np.vectorize(get_directory_size, otypes=[int])\\\n",
    "                               (np.vectorize(lambda x: os.path.join(path, x), otypes=[str])\n",
    "                                    (raw_lsl[filt, 0]))        \n",
    "        df = pd.DataFrame(raw_lsl[:, :2], columns=['name', 'GB'])\n",
    "        df['GB'] = np.round(df['GB'] / 1024**3, 3)\n",
    "        known[path] = df.sort_values(by='GB', ascending=False).reset_index(drop=True)\n",
    "\n",
    "    return known[path]"
   ]
  },
  {
   "cell_type": "code",
   "execution_count": 3,
   "id": "5955afd4-beab-45b2-9e5a-b0700d5dbace",
   "metadata": {},
   "outputs": [
    {
     "name": "stderr",
     "output_type": "stream",
     "text": [
      "\n",
      "KeyboardInterrupt\n",
      "\n"
     ]
    }
   ],
   "source": [
    "space('C:\\\\Users\\\\gavin', True)"
   ]
  }
 ],
 "metadata": {
  "kernelspec": {
   "display_name": "Python 3 (ipykernel)",
   "language": "python",
   "name": "python3"
  },
  "language_info": {
   "codemirror_mode": {
    "name": "ipython",
    "version": 3
   },
   "file_extension": ".py",
   "mimetype": "text/x-python",
   "name": "python",
   "nbconvert_exporter": "python",
   "pygments_lexer": "ipython3",
   "version": "3.13.5"
  }
 },
 "nbformat": 4,
 "nbformat_minor": 5
}
