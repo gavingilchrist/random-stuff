{
 "cells": [
  {
   "cell_type": "code",
   "execution_count": 1,
   "id": "5714bdf9-a7d4-4c9e-98be-8ed6c3e68502",
   "metadata": {},
   "outputs": [],
   "source": [
    "txt = \"\"\"\"\"\""
   ]
  },
  {
   "cell_type": "code",
   "execution_count": 14,
   "id": "d24ad8c2-63a1-4485-a4d9-0ee0ab829f4f",
   "metadata": {},
   "outputs": [],
   "source": [
    "def get_codes(txt):\n",
    "    if '[' not in txt:\n",
    "        return []\n",
    "    if txt[txt.index('['):][6] != ']':\n",
    "        return []\n",
    "    if not all([48 <= ord(i) <= 57 for i in txt[txt.index('['):][1:6]]):\n",
    "        return []\n",
    "    return [txt[txt.index('['):][1:6], *get_codes(txt[txt.index('['):][7:])]"
   ]
  },
  {
   "cell_type": "code",
   "execution_count": 17,
   "id": "865d90bd-3e3a-4c07-a928-f0703fc741b0",
   "metadata": {},
   "outputs": [
    {
     "data": {
      "text/plain": [
       "array(['03507', '06205', '01303', '07409', '05504', '10604', '12410',\n",
       "       '04105', '08106', '13406', '14901', '09510', '08109', '03703',\n",
       "       '02901', '01208', '09812', '04808', '14302', '13609', '02011',\n",
       "       '10701', '07711', '12102'], dtype='<U5')"
      ]
     },
     "execution_count": 17,
     "metadata": {},
     "output_type": "execute_result"
    }
   ],
   "source": [
    "import numpy as np\n",
    "\n",
    "codes = np.array(get_codes(txt))\n",
    "codes"
   ]
  },
  {
   "cell_type": "code",
   "execution_count": 22,
   "id": "37584b27-cd77-4515-83de-8e893e2d40e3",
   "metadata": {},
   "outputs": [
    {
     "data": {
      "text/plain": [
       "array([['01', '2'],\n",
       "       ['02', '2'],\n",
       "       ['03', '2'],\n",
       "       ['04', '2'],\n",
       "       ['05', '1'],\n",
       "       ['06', '1'],\n",
       "       ['07', '2'],\n",
       "       ['08', '2'],\n",
       "       ['09', '2'],\n",
       "       ['10', '2'],\n",
       "       ['12', '2'],\n",
       "       ['13', '2'],\n",
       "       ['14', '2']], dtype='<U21')"
      ]
     },
     "execution_count": 22,
     "metadata": {},
     "output_type": "execute_result"
    }
   ],
   "source": [
    "np.column_stack(np.unique(codes.view('<U1').reshape(codes.shape[0], -1)[:, :2].reshape(-1).view('<U2'), return_counts=True))"
   ]
  },
  {
   "cell_type": "code",
   "execution_count": 25,
   "id": "c200b54a-bb2c-4921-864e-9588dd55430e",
   "metadata": {},
   "outputs": [
    {
     "data": {
      "text/plain": [
       "array([['0', '1'],\n",
       "       ['1', '4'],\n",
       "       ['2', '2'],\n",
       "       ['3', '2'],\n",
       "       ['4', '3'],\n",
       "       ['5', '3'],\n",
       "       ['6', '2'],\n",
       "       ['7', '3'],\n",
       "       ['8', '2'],\n",
       "       ['9', '2']], dtype='<U21')"
      ]
     },
     "execution_count": 25,
     "metadata": {},
     "output_type": "execute_result"
    }
   ],
   "source": [
    "np.column_stack(np.unique(codes.view('<U1').reshape(codes.shape[0], -1)[:, 2:3].reshape(-1).view('<U1'), return_counts=True))"
   ]
  },
  {
   "cell_type": "code",
   "execution_count": 26,
   "id": "768a0420-f067-4609-9044-5ef32ab84602",
   "metadata": {},
   "outputs": [
    {
     "data": {
      "text/plain": [
       "array([['01', '3'],\n",
       "       ['02', '2'],\n",
       "       ['03', '2'],\n",
       "       ['04', '2'],\n",
       "       ['05', '2'],\n",
       "       ['06', '2'],\n",
       "       ['07', '1'],\n",
       "       ['08', '2'],\n",
       "       ['09', '3'],\n",
       "       ['10', '2'],\n",
       "       ['11', '2'],\n",
       "       ['12', '1']], dtype='<U21')"
      ]
     },
     "execution_count": 26,
     "metadata": {},
     "output_type": "execute_result"
    }
   ],
   "source": [
    "np.column_stack(np.unique(codes.view('<U1').reshape(codes.shape[0], -1)[:, -2:].reshape(-1).view('<U2'), return_counts=True))"
   ]
  }
 ],
 "metadata": {
  "kernelspec": {
   "display_name": "Python 3 (ipykernel)",
   "language": "python",
   "name": "python3"
  },
  "language_info": {
   "codemirror_mode": {
    "name": "ipython",
    "version": 3
   },
   "file_extension": ".py",
   "mimetype": "text/x-python",
   "name": "python",
   "nbconvert_exporter": "python",
   "pygments_lexer": "ipython3",
   "version": "3.13.2"
  }
 },
 "nbformat": 4,
 "nbformat_minor": 5
}
