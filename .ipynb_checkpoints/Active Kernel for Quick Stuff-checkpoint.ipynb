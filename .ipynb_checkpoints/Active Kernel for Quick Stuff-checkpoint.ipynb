{
 "cells": [
  {
   "cell_type": "code",
   "execution_count": null,
   "id": "5714bdf9-a7d4-4c9e-98be-8ed6c3e68502",
   "metadata": {},
   "outputs": [],
   "source": [
    "txt = \"\"\"\"\"\""
   ]
  },
  {
   "cell_type": "code",
   "execution_count": null,
   "id": "d24ad8c2-63a1-4485-a4d9-0ee0ab829f4f",
   "metadata": {},
   "outputs": [],
   "source": [
    "def get_codes(txt):\n",
    "    if '[' not in txt:\n",
    "        return []\n",
    "    if txt[txt.index('['):][6] != ']':\n",
    "        return []\n",
    "    if not all([48 <= ord(i) <= 57 for i in txt[txt.index('['):][1:6]]):\n",
    "        return []\n",
    "    return [txt[txt.index('['):][1:6], *get_codes(txt[txt.index('['):][7:])]"
   ]
  },
  {
   "cell_type": "code",
   "execution_count": null,
   "id": "865d90bd-3e3a-4c07-a928-f0703fc741b0",
   "metadata": {},
   "outputs": [],
   "source": [
    "import numpy as np\n",
    "\n",
    "codes = np.array(get_codes(txt))\n",
    "codes"
   ]
  },
  {
   "cell_type": "code",
   "execution_count": null,
   "id": "37584b27-cd77-4515-83de-8e893e2d40e3",
   "metadata": {},
   "outputs": [],
   "source": [
    "np.column_stack(np.unique(codes.view('<U1').reshape(codes.shape[0], -1)[:, :2].reshape(-1).view('<U2'), return_counts=True))"
   ]
  },
  {
   "cell_type": "code",
   "execution_count": null,
   "id": "c200b54a-bb2c-4921-864e-9588dd55430e",
   "metadata": {},
   "outputs": [],
   "source": [
    "np.column_stack(np.unique(codes.view('<U1').reshape(codes.shape[0], -1)[:, 2:3].reshape(-1).view('<U1'), return_counts=True))"
   ]
  },
  {
   "cell_type": "code",
   "execution_count": null,
   "id": "768a0420-f067-4609-9044-5ef32ab84602",
   "metadata": {},
   "outputs": [],
   "source": [
    "np.column_stack(np.unique(codes.view('<U1').reshape(codes.shape[0], -1)[:, -2:].reshape(-1).view('<U2'), return_counts=True))"
   ]
  }
 ],
 "metadata": {
  "kernelspec": {
   "display_name": "Python 3 (ipykernel)",
   "language": "python",
   "name": "python3"
  },
  "language_info": {
   "codemirror_mode": {
    "name": "ipython",
    "version": 3
   },
   "file_extension": ".py",
   "mimetype": "text/x-python",
   "name": "python",
   "nbconvert_exporter": "python",
   "pygments_lexer": "ipython3",
   "version": "3.13.2"
  }
 },
 "nbformat": 4,
 "nbformat_minor": 5
}
