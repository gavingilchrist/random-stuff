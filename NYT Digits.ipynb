{
 "cells": [
  {
   "cell_type": "code",
   "execution_count": 505,
   "id": "e489cd57-0b91-40a7-afc0-2c2f4cb2ecbf",
   "metadata": {},
   "outputs": [],
   "source": [
    "import numpy as np\n",
    "\n",
    "def get_op_txt(digits, operator):\n",
    "    outshape = digits.shape[:-1]\n",
    "    digits_txt = digits.astype(str).reshape(-1, 2)\n",
    "    op_txt = np.char.add(np.char.add(digits_txt[:, 0], operator), digits_txt[:, 1])\n",
    "    \n",
    "    return op_txt.astype(f'<U{np.max(np.char.str_len(op_txt))}').reshape(outshape)\n",
    "\n",
    "def add(poss):\n",
    "    ix = np.array([[i, j] \n",
    "                   for i in range(poss.shape[1]-1) \n",
    "                   for j in range(i+1, poss.shape[1])])\n",
    "    label = get_op_txt(poss[:, ix], '+')\n",
    "    result = np.sum(poss[:, ix], axis=2)\n",
    "        \n",
    "    return label, result, ix[:, 0], ix[:, 1]\n",
    "\n",
    "def sub(poss):\n",
    "    ix = np.array([[i, j] \n",
    "                   for i in range(poss.shape[1]) \n",
    "                   for j in range(poss.shape[1])\n",
    "                   if i != j])\n",
    "    label = get_op_txt(poss[:, ix], '-')\n",
    "    result = np.sum(poss[:, ix] * [[[1, -1]]], axis=2)\n",
    "    result = np.where(result < 0, -1, result)\n",
    "\n",
    "    return label, result, ix[:, 0], ix[:, 1]\n",
    "\n",
    "def mult(poss):\n",
    "    ix = np.array([[i, j] \n",
    "                   for i in range(poss.shape[1]-1) \n",
    "                   for j in range(i+1, poss.shape[1])])\n",
    "    label = get_op_txt(poss[:, ix], '*')\n",
    "    result = np.prod(poss[:, ix], axis=2)\n",
    "\n",
    "    return label, result, ix[:, 0], ix[:, 1]\n",
    "\n",
    "def div(poss):\n",
    "    ix = np.array([[i, j] \n",
    "                   for i in range(poss.shape[1]) \n",
    "                   for j in range(poss.shape[1])\n",
    "                   if i != j])\n",
    "    label = get_op_txt(poss[:, ix], '/')\n",
    "    result = np.where(poss[:, ix][:, :, 1] == 0, \n",
    "                      np.maximum(poss[:, ix][:, :, 0], 1), \n",
    "                      poss[:, ix][:, :, 0])\\\n",
    "             / np.where(poss[:, ix][:, :, 1] == 0, \n",
    "                        np.minimum(-poss[:, ix][:, :, 0], -1), \n",
    "                        poss[:, ix][:, :, 1])    \n",
    "    result = np.where(np.mod(result, 1) != 0, -1, result).astype(int)\n",
    "\n",
    "    return label, result, ix[:, 0], ix[:, 1]\n",
    "\n",
    "def moves_txt(moves):\n",
    "    if moves.shape[1] == 1:\n",
    "        return moves[:, 0]\n",
    "    else:\n",
    "        return np.char.add(np.char.add(moves[:, 0], '; '), moves_txt(moves[:, 1:]))\n",
    "\n",
    "def all_targets(digits):\n",
    "    # Initialize arrays, results dict\n",
    "    poss = np.array([digits])\n",
    "    moves = np.empty((1, 0), dtype=str)\n",
    "    calc_to_target = {i: str(i) for i in digits}\n",
    "    \n",
    "    while poss.shape[1] > 1:\n",
    "        # Do all possible operations, add to poss and moves arrays\n",
    "        label, result, ix1, ix2 = (np.concatenate(i, axis=-1)\n",
    "                                   for i in zip(*[f(poss) for f in [add, sub, mult, div]]))\n",
    "        \n",
    "        poss = np.repeat(poss, label.shape[1], axis=0)\n",
    "        moves = np.repeat(moves, label.shape[1], axis=0)\n",
    "        \n",
    "        poss[np.arange(poss.shape[0]), np.tile(ix1, label.shape[0])] = result.reshape(-1)\n",
    "        poss[np.arange(poss.shape[0]), np.tile(ix2, label.shape[0])] = poss[:, -1]\n",
    "        poss = np.sort(poss[:, :-1], axis=1)\n",
    "        \n",
    "        moves = np.column_stack((moves, label.reshape(-1)))\n",
    "        \n",
    "        # Remove negatives, non-integers, duplicate outcomes\n",
    "        sortix = np.lexsort([poss[:, i] for i in range(poss.shape[1]-1, -1, -1)])\n",
    "        filt1 = np.any(poss[sortix] != np.append(-np.ones_like(poss[:1]), poss[sortix][:-1], axis=0), axis=1)\n",
    "        filt2 = result.reshape(-1)[sortix] != -1\n",
    "        \n",
    "        poss = poss[sortix][filt1 & filt2]\n",
    "        moves = moves[sortix][filt1 & filt2]\n",
    "        \n",
    "        # Add newly-reached numbers to calc_to_target dict\n",
    "        newnum = result.reshape(-1)[sortix][filt1 & filt2]\n",
    "        sortix2 = np.argsort(newnum)\n",
    "        nnix = np.arange(poss.shape[0])\\\n",
    "                  [(newnum[sortix2] != np.append([-1], newnum[sortix2][:-1]))\n",
    "                      [np.argsort(sortix2)]]\n",
    "        \n",
    "        calc_to_target = {**dict(zip(newnum[nnix].tolist(), \n",
    "                                     moves_txt(moves[nnix]).tolist())), \n",
    "                          **calc_to_target}\n",
    "\n",
    "    return calc_to_target\n",
    "\n",
    "def solve(digits, target):\n",
    "    soln = all_targets(digits).get(target, 'No Solution')\n",
    "    if soln == 'No Solution':\n",
    "        print('No Solution')\n",
    "    else:\n",
    "        for i in soln.split(';'):\n",
    "            print(f'{i.strip()} = {eval(i)}')\n",
    "\n",
    "def impossible_targets(digits, n=10):\n",
    "    solutions = all_targets(digits)\n",
    "    impossible = list()\n",
    "    target = 1\n",
    "    while n > 0:\n",
    "        if target not in solutions:\n",
    "            impossible += [target]\n",
    "            n -= 1\n",
    "        target += 1\n",
    "    \n",
    "    return impossible"
   ]
  },
  {
   "cell_type": "code",
   "execution_count": 503,
   "id": "7cb4d098-b722-44bb-bf2e-178cac66b6a3",
   "metadata": {},
   "outputs": [
    {
     "name": "stdout",
     "output_type": "stream",
     "text": [
      "7*11 = 77\n",
      "6*77 = 462\n",
      "17+462 = 479\n",
      "3+479 = 482\n"
     ]
    }
   ],
   "source": [
    "digits = [3,6,7,9,11,17]\n",
    "target = 482\n",
    "solve(digits, target)"
   ]
  },
  {
   "cell_type": "code",
   "execution_count": 502,
   "id": "3ff1740b-d5bc-4d14-a3ca-f04f85473dd4",
   "metadata": {},
   "outputs": [
    {
     "data": {
      "text/plain": [
       "[1090, 1178, 1262, 1346, 1409, 1415, 1424, 1427, 1436, 1544]"
      ]
     },
     "execution_count": 502,
     "metadata": {},
     "output_type": "execute_result"
    }
   ],
   "source": [
    "impossible_targets(digits)"
   ]
  }
 ],
 "metadata": {
  "kernelspec": {
   "display_name": "Python 3 (ipykernel)",
   "language": "python",
   "name": "python3"
  },
  "language_info": {
   "codemirror_mode": {
    "name": "ipython",
    "version": 3
   },
   "file_extension": ".py",
   "mimetype": "text/x-python",
   "name": "python",
   "nbconvert_exporter": "python",
   "pygments_lexer": "ipython3",
   "version": "3.13.2"
  }
 },
 "nbformat": 4,
 "nbformat_minor": 5
}
