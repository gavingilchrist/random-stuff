{
 "cells": [
  {
   "cell_type": "code",
   "execution_count": 2,
   "id": "5f5cbb50-2339-461e-b1cd-810345564611",
   "metadata": {},
   "outputs": [],
   "source": [
    "import numpy as np"
   ]
  },
  {
   "cell_type": "code",
   "execution_count": 3,
   "id": "3a3b2a80-f7e3-4e63-8c4b-c3716c1d9d84",
   "metadata": {},
   "outputs": [],
   "source": [
    "all_words = np.array(open('../data/scrabble_dict.txt', 'r').read().split('\\n'))"
   ]
  },
  {
   "cell_type": "code",
   "execution_count": 4,
   "id": "2eb191bb-2df1-4b83-bd30-d1ccbe70f22d",
   "metadata": {},
   "outputs": [],
   "source": [
    "puzzle = 'FGLPMNEIACRY'"
   ]
  },
  {
   "cell_type": "code",
   "execution_count": 5,
   "id": "b17448ab-d2c4-411b-89d4-44f74e4a006b",
   "metadata": {},
   "outputs": [],
   "source": [
    "sideconv = np.vectorize({**{j: int(puzzle.index(j)/3)+1 if j in puzzle else -1\n",
    "                            for j in [chr(i+65) for i in range(26)]},\n",
    "                         '': 0}.get)\n",
    "\n",
    "word_letters = all_words.view('<U1').reshape(all_words.shape[0], -1)\n",
    "word_sides = sideconv(word_letters)\n",
    "\n",
    "filt = (~np.any(word_sides == -1, axis=1))\\\n",
    "       & (~np.any((word_sides[:, 1:] > 0) & (word_sides[:, 1:] == word_sides[:, :-1]), axis=1))\n",
    "\n",
    "valid_words = all_words[filt]\n",
    "first_letter = word_letters[filt, 0]\n",
    "last_letter = word_letters[filt][np.arange(valid_words.shape[0]), \n",
    "                                 np.sum(word_letters[filt] != '', axis=1)-1]"
   ]
  },
  {
   "cell_type": "code",
   "execution_count": 7,
   "id": "331d86fa-e2e2-4447-9658-e26a20d4fe01",
   "metadata": {},
   "outputs": [],
   "source": [
    "poss = np.expand_dims(valid_words, 1)\n",
    "poss_ll = np.copy(last_letter)"
   ]
  },
  {
   "cell_type": "code",
   "execution_count": 8,
   "id": "7659dff9-3616-49e4-b302-4a6e456632bc",
   "metadata": {},
   "outputs": [
    {
     "data": {
      "text/plain": [
       "np.int64(0)"
      ]
     },
     "execution_count": 8,
     "metadata": {},
     "output_type": "execute_result"
    }
   ],
   "source": [
    "ulchk = poss.view('<U1').reshape(poss.shape[0], -1)\n",
    "used_letters = np.column_stack([np.any(ulchk == i, axis=1) for i in puzzle])\n",
    "n_used_letters = np.sum(used_letters, axis=1)\n",
    "np.sum(n_used_letters == 12)"
   ]
  },
  {
   "cell_type": "code",
   "execution_count": 9,
   "id": "08d769dd-11a6-4c72-8bb2-f4f046e4b921",
   "metadata": {},
   "outputs": [],
   "source": [
    "lmfilt = np.repeat(poss_ll, valid_words.shape[0]) == np.tile(first_letter, poss.shape[0])\n",
    "ix1 = np.repeat(np.arange(poss.shape[0]), valid_words.shape[0])[lmfilt]\n",
    "ix2 = np.tile(np.arange(valid_words.shape[0]), poss.shape[0])[lmfilt]\n",
    "poss = np.column_stack((poss[ix1], valid_words[ix2]))\n",
    "poss_ll = last_letter[ix2]"
   ]
  },
  {
   "cell_type": "code",
   "execution_count": 10,
   "id": "aea45567-a6de-487c-8cdf-89f901cb0538",
   "metadata": {},
   "outputs": [
    {
     "data": {
      "text/plain": [
       "np.int64(148)"
      ]
     },
     "execution_count": 10,
     "metadata": {},
     "output_type": "execute_result"
    }
   ],
   "source": [
    "ulchk = poss.view('<U1').reshape(poss.shape[0], -1)\n",
    "used_letters = np.column_stack([np.any(ulchk == i, axis=1) for i in puzzle])\n",
    "n_used_letters = np.sum(used_letters, axis=1)\n",
    "np.sum(n_used_letters == 12)"
   ]
  },
  {
   "cell_type": "code",
   "execution_count": 11,
   "id": "531a12b1-b15a-4a45-a3f6-9d3d1e5d9819",
   "metadata": {},
   "outputs": [
    {
     "data": {
      "text/plain": [
       "array([['ALMEMAR', 'REPACIFYING'],\n",
       "       ['ANYPLACE', 'ENFRAMING'],\n",
       "       ['AREFYING', 'GEMCLIP'],\n",
       "       ['CALAMAR', 'REPACIFYING'],\n",
       "       ['CALIPER', 'RAMIFYING'],\n",
       "       ['CALIPERING', 'GAMIFY'],\n",
       "       ['CALIPERING', 'GAMIFYING'],\n",
       "       ['CALMER', 'REPACIFYING'],\n",
       "       ['CAPRIFIG', 'GERMANELY'],\n",
       "       ['CAPRIFY', 'YELMING'],\n",
       "       ['CAPRIFYING', 'GAMELAN'],\n",
       "       ['CAPRIFYING', 'GAMELY'],\n",
       "       ['CAPRIFYING', 'GAMEPLAY'],\n",
       "       ['CAPRIFYING', 'GEMCLIP'],\n",
       "       ['CAPRIFYING', 'GEMEL'],\n",
       "       ['CAPRIFYING', 'GEMINAL'],\n",
       "       ['CAPRIFYING', 'GERMANELY'],\n",
       "       ['CAPRIFYING', 'GERMINAL'],\n",
       "       ['CAPRIFYING', 'GIMEL'],\n",
       "       ['CAPRIFYING', 'GREMLIN'],\n",
       "       ['CARNIFYING', 'GAMEPLAY'],\n",
       "       ['CARNIFYING', 'GEMCLIP'],\n",
       "       ['CLARIFYING', 'GAMEPLAY'],\n",
       "       ['CLARIFYING', 'GEMCLIP'],\n",
       "       ['CLYPE', 'ENFRAMING'],\n",
       "       ['ENAMELER', 'REPACIFYING'],\n",
       "       ['EPIGAMIC', 'CLARIFYING'],\n",
       "       ['EPIMERIC', 'CALCIFYING'],\n",
       "       ['EPIMERIC', 'CALEFYING'],\n",
       "       ['EPIMERIC', 'CLARIFYING'],\n",
       "       ['FACEPALMING', 'GARAGEY'],\n",
       "       ['FACEPALMING', 'GARGANEY'],\n",
       "       ['FACEPALMING', 'GAYER'],\n",
       "       ['FACEPALMING', 'GERMANELY'],\n",
       "       ['FACEPALMING', 'GERMY'],\n",
       "       ['FACEPALMING', 'GEYER'],\n",
       "       ['FACEPALMING', 'GINGERLY'],\n",
       "       ['FACEPALMING', 'GIRLY'],\n",
       "       ['FACEPALMING', 'GNARLY'],\n",
       "       ['FACEPALMING', 'GRAPEY'],\n",
       "       ['FACEPALMING', 'GRAPY'],\n",
       "       ['FACEPALMING', 'GRAY'],\n",
       "       ['FACEPALMING', 'GRAYER'],\n",
       "       ['FACEPALMING', 'GRAYING'],\n",
       "       ['FACEPALMING', 'GRAYLAG'],\n",
       "       ['FACEPALMING', 'GRAYLE'],\n",
       "       ['FACEPALMING', 'GRAYLING'],\n",
       "       ['FACEPALMING', 'GRAYLY'],\n",
       "       ['FACEPALMING', 'GREY'],\n",
       "       ['FACEPALMING', 'GREYER'],\n",
       "       ['FACEPALMING', 'GREYING'],\n",
       "       ['FACEPALMING', 'GREYLAG'],\n",
       "       ['FACEPALMING', 'GREYLY'],\n",
       "       ['FACEPALMING', 'GRIMILY'],\n",
       "       ['FACEPALMING', 'GRIMLY'],\n",
       "       ['FACEPALMING', 'GRIMY'],\n",
       "       ['FACEPALMING', 'GRIPEY'],\n",
       "       ['FACEPALMING', 'GRIPY'],\n",
       "       ['FILMER', 'REPACIFYING'],\n",
       "       ['FIREMANIC', 'CLYPING'],\n",
       "       ['FRAGRANCING', 'GAMEPLAY'],\n",
       "       ['FRAYING', 'GEMCLIP'],\n",
       "       ['GAMIFYING', 'GRAPELICE'],\n",
       "       ['INFERENCING', 'GAMEPLAY'],\n",
       "       ['LAMER', 'REPACIFYING'],\n",
       "       ['LAMIGER', 'REPACIFYING'],\n",
       "       ['LAMINAR', 'REPACIFYING'],\n",
       "       ['MAGNIFYING', 'GRAPELICE'],\n",
       "       ['MALAR', 'REPACIFYING'],\n",
       "       ['MALEFIC', 'CAPRIFYING'],\n",
       "       ['MALIGNER', 'REPACIFY'],\n",
       "       ['MALIGNER', 'REPACIFYING'],\n",
       "       ['MALINGER', 'REPACIFY'],\n",
       "       ['MALINGER', 'REPACIFYING'],\n",
       "       ['MALINGERER', 'REPACIFY'],\n",
       "       ['MALINGERER', 'REPACIFYING'],\n",
       "       ['MELANIC', 'CAPRIFYING'],\n",
       "       ['MELIC', 'CAPRIFYING'],\n",
       "       ['MILER', 'REPACIFYING'],\n",
       "       ['MINELAYER', 'REPACIFYING'],\n",
       "       ['MINIFYING', 'GRAPELICE'],\n",
       "       ['MYELINIC', 'CAPRIFIG'],\n",
       "       ['MYELINIC', 'CAPRIFYING'],\n",
       "       ['MYLAR', 'REPACIFYING'],\n",
       "       ['PACIFIC', 'CLERGYMAN'],\n",
       "       ['PACIFIC', 'CLERGYMEN'],\n",
       "       ['PACIFYING', 'GERMANELY'],\n",
       "       ['PACIFYING', 'GERMINAL'],\n",
       "       ['PACIFYING', 'GREMLIN'],\n",
       "       ['PALMAR', 'REPACIFYING'],\n",
       "       ['PALMER', 'REPACIFYING'],\n",
       "       ['PENCILER', 'RAMIFYING'],\n",
       "       ['PERMANGANIC', 'CALCIFY'],\n",
       "       ['PERMANGANIC', 'CALCIFYING'],\n",
       "       ['PERMANGANIC', 'CALEFY'],\n",
       "       ['PERMANGANIC', 'CALEFYING'],\n",
       "       ['PERMANGANIC', 'CLARIFY'],\n",
       "       ['PERMANGANIC', 'CLARIFYING'],\n",
       "       ['PLACEMAN', 'NIGRIFY'],\n",
       "       ['PLACEMAN', 'NIGRIFYING'],\n",
       "       ['PLACEMEN', 'NIGRIFY'],\n",
       "       ['PLACEMEN', 'NIGRIFYING'],\n",
       "       ['PLACER', 'RAMIFYING'],\n",
       "       ['PRECANCELING', 'GAMIFY'],\n",
       "       ['PRECANCELING', 'GAMIFYING'],\n",
       "       ['PREFACING', 'GAMELY'],\n",
       "       ['PREFACING', 'GAMEPLAY'],\n",
       "       ['PREFACING', 'GAMILY'],\n",
       "       ['PREFACING', 'GERMANELY'],\n",
       "       ['PREFACING', 'GRIMILY'],\n",
       "       ['PREFACING', 'GRIMLY'],\n",
       "       ['PREFINANCING', 'GAMELY'],\n",
       "       ['PREFINANCING', 'GAMEPLAY'],\n",
       "       ['PREFINANCING', 'GAMILY'],\n",
       "       ['PREFINANCING', 'GERMANELY'],\n",
       "       ['PREFINANCING', 'GRIMILY'],\n",
       "       ['PREFINANCING', 'GRIMLY'],\n",
       "       ['PREPLACING', 'GAMIFY'],\n",
       "       ['PREPLACING', 'GAMIFYING'],\n",
       "       ['PRINCELING', 'GAMIFY'],\n",
       "       ['PRINCELING', 'GAMIFYING'],\n",
       "       ['PYEMIC', 'CLARIFYING'],\n",
       "       ['RAMIFYING', 'GELCAP'],\n",
       "       ['RAMIFYING', 'GEMCLIP'],\n",
       "       ['RAMIFYING', 'GRAPELICE'],\n",
       "       ['RAREFYING', 'GEMCLIP'],\n",
       "       ['RARIFYING', 'GEMCLIP'],\n",
       "       ['REFACING', 'GAMEPLAY'],\n",
       "       ['REFENCING', 'GAMEPLAY'],\n",
       "       ['REFERENCING', 'GAMEPLAY'],\n",
       "       ['REFINANCING', 'GAMEPLAY'],\n",
       "       ['REPACIFY', 'YELMING'],\n",
       "       ['REPACIFYING', 'GAMELAN'],\n",
       "       ['REPACIFYING', 'GAMELY'],\n",
       "       ['REPACIFYING', 'GAMEPLAY'],\n",
       "       ['REPACIFYING', 'GAMILY'],\n",
       "       ['REPACIFYING', 'GEMCLIP'],\n",
       "       ['REPACIFYING', 'GEMEL'],\n",
       "       ['REPACIFYING', 'GEMINAL'],\n",
       "       ['REPACIFYING', 'GERMANELY'],\n",
       "       ['REPACIFYING', 'GERMINAL'],\n",
       "       ['REPACIFYING', 'GIMEL'],\n",
       "       ['REPACIFYING', 'GREMLIN'],\n",
       "       ['REPACIFYING', 'GRIMILY'],\n",
       "       ['REPACIFYING', 'GRIMLY'],\n",
       "       ['REPLACER', 'RAMIFYING'],\n",
       "       ['REPLACING', 'GAMIFY'],\n",
       "       ['REPLACING', 'GAMIFYING']], dtype='<U15')"
      ]
     },
     "execution_count": 11,
     "metadata": {},
     "output_type": "execute_result"
    }
   ],
   "source": [
    "poss[n_used_letters == 12]"
   ]
  }
 ],
 "metadata": {
  "kernelspec": {
   "display_name": "Python 3 (ipykernel)",
   "language": "python",
   "name": "python3"
  },
  "language_info": {
   "codemirror_mode": {
    "name": "ipython",
    "version": 3
   },
   "file_extension": ".py",
   "mimetype": "text/x-python",
   "name": "python",
   "nbconvert_exporter": "python",
   "pygments_lexer": "ipython3",
   "version": "3.13.3"
  }
 },
 "nbformat": 4,
 "nbformat_minor": 5
}
