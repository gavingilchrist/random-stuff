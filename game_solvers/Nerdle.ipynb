{
 "cells": [
  {
   "cell_type": "code",
   "execution_count": 1,
   "id": "dd1c88e7-6751-438c-8f60-7b902bced928",
   "metadata": {},
   "outputs": [],
   "source": [
    "import numpy as np"
   ]
  },
  {
   "cell_type": "code",
   "execution_count": 496,
   "id": "4c4f9077-646f-4a9e-ab3d-1d87afc4322d",
   "metadata": {},
   "outputs": [],
   "source": [
    "def get_initial_poss(n_cells, eq_cells):\n",
    "    return np.array([[*['']*i, '=', *['']*(n_cells-1-i)] for i in eq_cells])\n",
    "\n",
    "def expand_poss(poss, col_num, explist):\n",
    "    newvals = np.where(poss[:, col_num:col_num+1] == '',\n",
    "                       np.expand_dims(explist, 0),\n",
    "                       np.column_stack((poss[:, col_num:col_num+1], \n",
    "                                        np.full((poss.shape[0], \n",
    "                                                 explist.shape[0]-1), ''))))    \n",
    "    poss_out = np.repeat(poss, np.sum(newvals != '', axis=1), axis=0)\n",
    "    poss_out[:, col_num] = newvals.reshape(-1)[newvals.reshape(-1) != '']\n",
    "    return poss_out\n",
    "\n",
    "def get_filters(poss, col_num):\n",
    "    filters = [np.ones((poss.shape[0]), dtype=bool)]\n",
    "    if col_num > 0:\n",
    "        # Back to back operators\n",
    "        filters += [~(is_operator(poss, col_num) & is_operator(poss, col_num-1))]\n",
    "    if 1 <= col_num <= 6:\n",
    "        # Number starting with zero\n",
    "        filters += [~((poss[:, col_num] == '0') & is_operator(poss, col_num-1))]\n",
    "    if col_num in[3, 4, 5]:\n",
    "        # Operator before equals\n",
    "        filters += [~(is_operator(poss, col_num) & (poss[:, col_num+1] == '='))]\n",
    "        # No operator on LHS\n",
    "        filters += [~((poss[:, col_num+1] == '=') \n",
    "                      & (~np.any(np.column_stack([is_operator(poss, c) \n",
    "                                                  for c in range(col_num+1)]), axis=1)))]\n",
    "    return np.all(np.column_stack(filters), axis=1)\n",
    "\n",
    "def is_operator(poss, col_num):\n",
    "    return (((poss[:, col_num] != '') \n",
    "             & (poss[:, col_num].view(np.uint32) < ord('0')))\n",
    "            | (poss[:, col_num].view(np.uint32) > ord('9')))\n",
    "\n",
    "def complete_rhs(poss, col_num):\n",
    "    lhs_comp_ix = np.arange(poss.shape[0])[poss[:, col_num+1] == '=']\n",
    "\n",
    "    lhs = poss[lhs_comp_ix][:, :col_num+1].reshape(-1).view(f'<U{col_num+1}')\n",
    "    lhs_result = np.round(np.array([eval(i) for i in lhs]), 6)\n",
    "    targ_res_len = poss.shape[1] - col_num - 2\n",
    "\n",
    "    filt = np.all(np.column_stack((lhs_result >= 0,\n",
    "                                   np.mod(lhs_result, 1) == 0,\n",
    "                                   np.maximum(np.floor(np.log10(np.maximum(lhs_result, 1e-6)))+1, 1)\n",
    "                                       == targ_res_len)),\n",
    "                  axis=1)\n",
    "    poss[lhs_comp_ix[filt], col_num+2:] = lhs_result[filt].astype(int)\\\n",
    "                                                          .astype(f'<U{targ_res_len}')\\\n",
    "                                                          .view('<U1')\\\n",
    "                                                          .reshape(-1, targ_res_len)\n",
    "    return np.delete(poss, lhs_comp_ix[~filt], axis=0)\n",
    "\n",
    "def get_all_poss():\n",
    "    poss = get_initial_poss(8, [4, 5, 6])\n",
    "    explist = np.arange(1, 10).astype('<U1')\n",
    "    for col_num in range(6):\n",
    "        poss = expand_poss(poss, col_num, explist)\n",
    "        poss = poss[get_filters(poss, col_num)]\n",
    "        if col_num == 0:\n",
    "            explist = np.append(explist, list('0+-*/'))\n",
    "        elif col_num >= 3:\n",
    "            poss = complete_rhs(poss, col_num)\n",
    "    return poss"
   ]
  },
  {
   "cell_type": "code",
   "execution_count": 497,
   "id": "f75b24cc-2870-49c9-a31c-03a973c492bd",
   "metadata": {},
   "outputs": [
    {
     "name": "stderr",
     "output_type": "stream",
     "text": [
      "100%|██████████| 6/6 [00:16<00:00,  2.72s/it]\n"
     ]
    },
    {
     "data": {
      "text/plain": [
       "(17723,\n",
       " array([['1', '2', '*', '9', '=', '1', '0', '8'],\n",
       "        ['1', '3', '*', '8', '=', '1', '0', '4'],\n",
       "        ['1', '3', '*', '9', '=', '1', '1', '7'],\n",
       "        ['1', '4', '*', '8', '=', '1', '1', '2'],\n",
       "        ['1', '4', '*', '9', '=', '1', '2', '6'],\n",
       "        ['1', '5', '*', '7', '=', '1', '0', '5'],\n",
       "        ['1', '5', '*', '8', '=', '1', '2', '0'],\n",
       "        ['1', '5', '*', '9', '=', '1', '3', '5'],\n",
       "        ['1', '6', '*', '7', '=', '1', '1', '2'],\n",
       "        ['1', '6', '*', '8', '=', '1', '2', '8']], dtype='<U1'))"
      ]
     },
     "execution_count": 497,
     "metadata": {},
     "output_type": "execute_result"
    }
   ],
   "source": [
    "poss = get_all_poss()\n",
    "poss.shape[0], poss[:10]"
   ]
  },
  {
   "cell_type": "code",
   "execution_count": 492,
   "id": "25a59ca8-2ff3-4e80-b333-deeb8f4ccbc0",
   "metadata": {},
   "outputs": [
    {
     "data": {
      "text/plain": [
       "array([['1', '1', '5', '/', '2', '3', '=', '5'],\n",
       "       ['1', '1', '-', '3', '*', '2', '=', '5'],\n",
       "       ['1', '3', '5', '/', '2', '7', '=', '5'],\n",
       "       ['1', '3', '0', '/', '2', '6', '=', '5'],\n",
       "       ['1', '3', '0', '/', '6', '5', '=', '2'],\n",
       "       ['1', '3', '-', '5', '-', '2', '=', '6'],\n",
       "       ['1', '3', '-', '5', '-', '6', '=', '2'],\n",
       "       ['1', '3', '-', '5', '*', '2', '=', '3'],\n",
       "       ['1', '3', '-', '6', '-', '2', '=', '5'],\n",
       "       ['1', '3', '-', '6', '-', '5', '=', '2'],\n",
       "       ['1', '5', '-', '6', '*', '2', '=', '3'],\n",
       "       ['1', '5', '/', '3', '-', '2', '=', '3'],\n",
       "       ['1', '5', '/', '3', '-', '3', '=', '2'],\n",
       "       ['1', '6', '0', '/', '3', '2', '=', '5'],\n",
       "       ['1', '7', '-', '3', '*', '5', '=', '2'],\n",
       "       ['1', '7', '-', '5', '*', '3', '=', '2'],\n",
       "       ['1', '0', '-', '3', '-', '2', '=', '5'],\n",
       "       ['1', '0', '-', '3', '-', '5', '=', '2'],\n",
       "       ['1', '0', '-', '5', '-', '2', '=', '3'],\n",
       "       ['1', '0', '-', '5', '-', '3', '=', '2']], dtype='<U1')"
      ]
     },
     "execution_count": 492,
     "metadata": {},
     "output_type": "execute_result"
    }
   ],
   "source": [
    "filt = np.all(np.column_stack([\n",
    "                  np.all(poss != '4', axis=1),\n",
    "                  np.all(poss != '+', axis=1),\n",
    "                  np.all(poss != '9', axis=1),\n",
    "                  poss[:, 0] == '1',\n",
    "                  poss[:, 3] != '2',\n",
    "                  np.sum(poss == '2', axis=1) >= 1,\n",
    "                  poss[:, 4] != '5',\n",
    "                  np.sum(poss == '5', axis=1) >= 1,\n",
    "                  poss[:, 6] != '3',\n",
    "                  np.sum(poss == '3', axis=1) >= 1,\n",
    "                  poss[:, 5] != '=',\n",
    "              ]),\n",
    "              axis=1)\n",
    "\n",
    "poss[filt]"
   ]
  },
  {
   "cell_type": "code",
   "execution_count": 503,
   "id": "afea04a9-ad2e-4a9e-b80f-92c8107c001a",
   "metadata": {},
   "outputs": [
    {
     "name": "stdout",
     "output_type": "stream",
     "text": [
      "Number of possible words: 17723\n"
     ]
    },
    {
     "name": "stdin",
     "output_type": "stream",
     "text": [
      "What you inserted (enter 'b' if it was the best choice):  14+25=39\n",
      "Mask:  20011110\n"
     ]
    },
    {
     "name": "stdout",
     "output_type": "stream",
     "text": [
      "Number of possible words: 20\n"
     ]
    },
    {
     "name": "stderr",
     "output_type": "stream",
     "text": [
      "100%|██████████| 17723/17723 [00:00<00:00, 18198.02it/s]\n"
     ]
    },
    {
     "name": "stdout",
     "output_type": "stream",
     "text": [
      "Best choice: 13-5-6=2\n",
      "Average information: 4.321928094887363\n",
      "============\n"
     ]
    },
    {
     "name": "stdin",
     "output_type": "stream",
     "text": [
      "What you inserted (enter 'b' if it was the best choice):  b\n",
      "Mask:  22220021\n"
     ]
    },
    {
     "name": "stdout",
     "output_type": "stream",
     "text": [
      "Number of possible words: 1\n",
      "Best choice: 13-5*2=3\n",
      "Average information: 0\n",
      "Possible words: ['13-5*2=3']\n",
      "============\n"
     ]
    },
    {
     "name": "stdin",
     "output_type": "stream",
     "text": [
      "What you inserted (enter 'b' if it was the best choice):  b\n",
      "Mask:  22222222\n"
     ]
    },
    {
     "name": "stdout",
     "output_type": "stream",
     "text": [
      "Number of possible words: 1\n",
      "Best choice: 13-5*2=3\n",
      "Average information: 0\n",
      "Possible words: ['13-5*2=3']\n"
     ]
    }
   ],
   "source": [
    "# words = poss.reshape(-1).view('<U8').tolist()\n",
    "\n",
    "# From https://github.com/pedrokkrause/Nerdle-Equations/blob/main/wordle.py:\n",
    "from math import log2\n",
    "from tqdm import tqdm\n",
    "from collections import defaultdict\n",
    "from time import sleep\n",
    "from copy import deepcopy\n",
    "\n",
    "def genmaskW(expression,correct):\n",
    "    mask = ['N']*len(expression)\n",
    "    count = defaultdict(lambda: 0)\n",
    "    for i, x in enumerate(expression):\n",
    "        if x == correct[i]:\n",
    "            mask[i] = '2'\n",
    "            count[x] += 1\n",
    "    for i,x in enumerate(expression):\n",
    "        if x not in correct:\n",
    "            mask[i] = '0'\n",
    "        elif x != correct[i]:\n",
    "            if count[x] < correct.count(x):\n",
    "                mask[i] = '1'\n",
    "                count[x] += 1\n",
    "            else:\n",
    "                mask[i] = '0'\n",
    "    return(''.join(mask))\n",
    "\n",
    "def checkmaskW(mask,expression,correct):\n",
    "    if mask == genmaskW(expression,correct):\n",
    "        return(True)\n",
    "    else:\n",
    "        return(False)\n",
    "\n",
    "def allmasksW(expression,dictionary):\n",
    "    masks = defaultdict(lambda: 0)\n",
    "    for expression2 in dictionary:\n",
    "        mask = genmaskW(expression,expression2)\n",
    "        masks[mask] += 1\n",
    "    return(masks)\n",
    "\n",
    "def filtermaskW(mask,expression,dictionary):\n",
    "    local = [x for x in dictionary if checkmaskW(mask,expression,x)]\n",
    "    return(local)\n",
    "\n",
    "def searchW(dictionary,possible=None):\n",
    "    if possible==None:\n",
    "        possible = dictionary\n",
    "    if len(possible) == 1 or len(dictionary) == 1:\n",
    "        return([possible[0],0,possible[0] in dictionary])\n",
    "    best = None\n",
    "    expected = 0\n",
    "    length = len(possible)\n",
    "    for expression in tqdm(dictionary):\n",
    "        localexp = 0\n",
    "        allmaskss = allmasksW(expression,possible)\n",
    "        for mask in allmaskss:\n",
    "            prob = allmaskss[mask]/length\n",
    "            localexp += -prob*log2(prob)\n",
    "        if localexp > expected or (localexp >= expected and expression in possible):\n",
    "            best = expression\n",
    "            expected = localexp\n",
    "            if len(possible) > 10000:\n",
    "                print([best,expected,best in possible])\n",
    "    return([best,expected,best in possible])\n",
    "\n",
    "possiblewords = deepcopy(words)\n",
    "print(\"Number of possible words:\",len(possiblewords))\n",
    "best = ['48-32=16']\n",
    "while True:\n",
    "    ans1 = input(\"What you inserted (enter 'b' if it was the best choice): \")\n",
    "    ans2 = input(\"Mask: \")\n",
    "    if ans1 == 'b':\n",
    "        ans1 = best[0]\n",
    "    possiblewords = filtermaskW(ans2,ans1,possiblewords)\n",
    "    print(\"Number of possible words:\",len(possiblewords))\n",
    "    best = searchW(words,possiblewords)\n",
    "    print(\"Best choice:\",best[0])\n",
    "    print(\"Average information:\",best[1])\n",
    "    if len(possiblewords) < 7:\n",
    "        print(\"Possible words:\",possiblewords)\n",
    "    if ans2 == '22222222':\n",
    "        break\n",
    "    print(\"============\")"
   ]
  }
 ],
 "metadata": {
  "kernelspec": {
   "display_name": "Python 3 (ipykernel)",
   "language": "python",
   "name": "python3"
  },
  "language_info": {
   "codemirror_mode": {
    "name": "ipython",
    "version": 3
   },
   "file_extension": ".py",
   "mimetype": "text/x-python",
   "name": "python",
   "nbconvert_exporter": "python",
   "pygments_lexer": "ipython3",
   "version": "3.13.3"
  }
 },
 "nbformat": 4,
 "nbformat_minor": 5
}
