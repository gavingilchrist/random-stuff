{
 "cells": [
  {
   "cell_type": "code",
   "execution_count": 328,
   "id": "be262d5c",
   "metadata": {},
   "outputs": [],
   "source": [
    "import numpy as np\n",
    "\n",
    "\n",
    "def newgrid(grid, loc_y, loc_x, offset_y, offset_x, tile, orientation):\n",
    "    return np.where((np.expand_dims(np.arange(grid.shape[0]),1)==loc_y)\n",
    "                       &(np.expand_dims(np.arange(grid.shape[1]),0)==loc_x),\n",
    "                    tile[orientation],\n",
    "                    np.where((np.expand_dims(np.arange(grid.shape[0]),1)==loc_y+offset_y)\n",
    "                                 &(np.expand_dims(np.arange(grid.shape[1]),0)==loc_x+offset_x),\n",
    "                             tile[1-orientation],\n",
    "                             grid))\n",
    "\n",
    "\n",
    "def rulecheck(cells, tiles, ruletype, param=None):\n",
    "    tilenums = np.sort(tiles.reshape(-1))\n",
    "    known = cells[cells != -1]\n",
    "    sum_known = np.sum(known)\n",
    "    n_unknown = np.sum(cells == -1).item()\n",
    "    if ruletype == 'sum':\n",
    "        return (np.sum(tilenums[:n_unknown]) <= (param - sum_known) <= np.sum(tilenums[::-1][:n_unknown])).item()\n",
    "    elif ruletype == 'sum_gt':\n",
    "        return (np.sum(tilenums[::-1][:n_unknown]) > (param - sum_known)).item()\n",
    "    elif ruletype == 'sum_lt':\n",
    "        return (np.sum(tilenums[:n_unknown]) > (param - sum_known)).item()\n",
    "    elif ruletype == 'all_eq':\n",
    "        return np.unique(known).shape[0] == 0 or (np.unique(known).shape[0] == 1 and np.sum(tilenums == known[0]) >= n_unknown)\n",
    "    elif ruletype == 'all_ne':\n",
    "        return np.unique(known).shape[0] != known.shape[0]\n",
    "    elif ruletype == 'true':\n",
    "        return True\n",
    "    else:\n",
    "        return False\n",
    "    \n",
    "\n",
    "def solve(cellgps, rules, tiles, grid=None, stack=None):\n",
    "    if isinstance(cellgps, str):\n",
    "        cellgps = np.array([list(i)for i in cellgps.strip().split('\\n')])\n",
    "        grid = np.where(cellgps == '.', 9, -1)\n",
    "        stack = np.array([k[1:] \n",
    "                          for k in sorted([[c.item(),i,j] \n",
    "                                           for i,r in enumerate(cellgps) \n",
    "                                           for j,c in enumerate(r) \n",
    "                                           if c != '.'])])\n",
    "    if all([rulecheck(grid.reshape(-1)[cellgps.reshape(-1) == i], \n",
    "                      tiles, \n",
    "                      *rules[i])\n",
    "            for i in np.unique(cellgps)[np.unique(cellgps)!='.']]):\n",
    "        if np.min(grid) > -1:\n",
    "            return [grid]\n",
    "        else:\n",
    "            loc_y, loc_x = stack[0]\n",
    "            return [s\n",
    "                   for offset_y, offset_x in [[-1, 0], [0, 1], [1, 0], [0, -1]]\n",
    "                   for tile in tiles\n",
    "                   for orientation in range(len({*tile}))\n",
    "                   for s in solve(cellgps,\n",
    "                                  rules,\n",
    "                                  tiles[np.any(tiles != [tile], axis=1)],\n",
    "                                  newgrid(grid, loc_y, loc_x, offset_y, offset_x, tile, orientation),\n",
    "                                  stack[np.any(stack != [loc_y, loc_x], axis=1)\n",
    "                                        &np.any(stack != [loc_y + offset_y, loc_x + offset_x], axis=1)])\n",
    "                   if grid[loc_y, loc_x] == grid[loc_y + offset_y, loc_x + offset_x] == -1]\n",
    "    else:\n",
    "        return []"
   ]
  },
  {
   "cell_type": "code",
   "execution_count": 330,
   "id": "8e513375",
   "metadata": {},
   "outputs": [
    {
     "data": {
      "text/plain": [
       "[array([[9, 9, 9, 9, 9, 9],\n",
       "        [9, 2, 3, 0, 5, 9],\n",
       "        [9, 0, 3, 3, 5, 9],\n",
       "        [9, 3, 3, 9, 9, 9],\n",
       "        [9, 6, 1, 9, 9, 9],\n",
       "        [9, 2, 1, 1, 6, 9],\n",
       "        [9, 0, 0, 0, 6, 9],\n",
       "        [9, 9, 9, 9, 9, 9],\n",
       "        [9, 9, 9, 9, 9, 9]])]"
      ]
     },
     "execution_count": 330,
     "metadata": {},
     "output_type": "execute_result"
    }
   ],
   "source": [
    "cellgps = \"\"\"\n",
    "......\n",
    ".ABZC.\n",
    ".ZBBC.\n",
    ".BB...\n",
    ".DE...\n",
    ".DEFF.\n",
    ".ZZGG.\n",
    "......\n",
    "......\n",
    "\"\"\"\n",
    "\n",
    "rules = {\n",
    "    'A': ['sum_gt', 1],\n",
    "    'B': ['all_eq'],\n",
    "    'C': ['sum', 10],\n",
    "    'D': ['sum', 8],\n",
    "    'E': ['sum', 2],\n",
    "    'F': ['sum', 7],\n",
    "    'G': ['sum', 6],\n",
    "    'Z': ['true'],\n",
    "}\n",
    "\n",
    "tiles = np.array([(5, 3), (0, 3), (1, 1), (6, 6), (3, 6), (3, 2), (2, 0), (5, 0), (0, 0), (1, 3)])\n",
    "\n",
    "solve(cellgps, rules, tiles)"
   ]
  },
  {
   "cell_type": "code",
   "execution_count": 329,
   "id": "bfd99f38",
   "metadata": {},
   "outputs": [
    {
     "data": {
      "text/plain": [
       "[array([[9, 9, 9, 9, 9, 9],\n",
       "        [9, 3, 5, 4, 2, 9],\n",
       "        [9, 2, 0, 0, 3, 9],\n",
       "        [9, 3, 0, 0, 3, 9],\n",
       "        [9, 3, 0, 6, 3, 9],\n",
       "        [9, 1, 1, 9, 9, 9],\n",
       "        [9, 1, 1, 9, 9, 9],\n",
       "        [9, 9, 9, 9, 9, 9]])]"
      ]
     },
     "execution_count": 329,
     "metadata": {},
     "output_type": "execute_result"
    }
   ],
   "source": [
    "cellgps = \"\"\"\n",
    "......\n",
    ".ZAAZ.\n",
    ".ZBBC.\n",
    ".DBBC.\n",
    ".DBEC.\n",
    ".FF...\n",
    ".FF...\n",
    "......\n",
    "\"\"\"\n",
    "\n",
    "rules = {\n",
    "    'A': ('sum', 9),\n",
    "    'B': ('sum', 0),\n",
    "    'C': ('all_eq',),\n",
    "    'D': ('sum', 6),\n",
    "    'E': ('sum_gt', 4),\n",
    "    'F': ('sum', 4),\n",
    "    'Z': ('true',),\n",
    "}\n",
    "\n",
    "tiles = np.array([(2, 0), (5, 3), (0, 3), (1, 1), (6, 0), (1, 3), (4, 0), (0, 1), (2, 3), (3, 3)])\n",
    "\n",
    "solve(cellgps, rules, tiles)"
   ]
  }
 ],
 "metadata": {
  "kernelspec": {
   "display_name": "base",
   "language": "python",
   "name": "python3"
  },
  "language_info": {
   "codemirror_mode": {
    "name": "ipython",
    "version": 3
   },
   "file_extension": ".py",
   "mimetype": "text/x-python",
   "name": "python",
   "nbconvert_exporter": "python",
   "pygments_lexer": "ipython3",
   "version": "3.12.3"
  }
 },
 "nbformat": 4,
 "nbformat_minor": 5
}
