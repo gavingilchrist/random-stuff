{
 "cells": [
  {
   "cell_type": "code",
   "execution_count": 1,
   "id": "dd1c88e7-6751-438c-8f60-7b902bced928",
   "metadata": {},
   "outputs": [],
   "source": [
    "import numpy as np"
   ]
  },
  {
   "cell_type": "code",
   "execution_count": 2,
   "id": "4c4f9077-646f-4a9e-ab3d-1d87afc4322d",
   "metadata": {},
   "outputs": [],
   "source": [
    "def get_initial_poss(n_cells, eq_cells):\n",
    "    return np.array([[*['']*i, '=', *['']*(n_cells-1-i)] for i in eq_cells])\n",
    "\n",
    "def expand_poss(poss, col_num, explist):\n",
    "    newvals = np.where(poss[:, col_num:col_num+1] == '',\n",
    "                       np.expand_dims(explist, 0),\n",
    "                       np.column_stack((poss[:, col_num:col_num+1], \n",
    "                                        np.full((poss.shape[0], \n",
    "                                                 explist.shape[0]-1), ''))))    \n",
    "    poss_out = np.repeat(poss, np.sum(newvals != '', axis=1), axis=0)\n",
    "    poss_out[:, col_num] = newvals.reshape(-1)[newvals.reshape(-1) != '']\n",
    "    return poss_out\n",
    "\n",
    "def get_filters(poss, col_num):\n",
    "    filters = [np.ones((poss.shape[0]), dtype=bool)]\n",
    "    if col_num > 0:\n",
    "        # Back to back operators\n",
    "        filters += [~(is_operator(poss, col_num) & is_operator(poss, col_num-1))]\n",
    "    if 1 <= col_num <= 6:\n",
    "        # Number starting with zero\n",
    "        filters += [~((poss[:, col_num] == '0') & is_operator(poss, col_num-1))]\n",
    "    if col_num in[3, 4, 5]:\n",
    "        # Operator before equals\n",
    "        filters += [~(is_operator(poss, col_num) & (poss[:, col_num+1] == '='))]\n",
    "        # No operator on LHS\n",
    "        filters += [~((poss[:, col_num+1] == '=') \n",
    "                      & (~np.any(np.column_stack([is_operator(poss, c) \n",
    "                                                  for c in range(col_num+1)]), axis=1)))]\n",
    "    return np.all(np.column_stack(filters), axis=1)\n",
    "\n",
    "def is_operator(poss, col_num):\n",
    "    return (((poss[:, col_num] != '') \n",
    "             & (poss[:, col_num].view(np.uint32) < ord('0')))\n",
    "            | (poss[:, col_num].view(np.uint32) > ord('9')))\n",
    "\n",
    "def complete_rhs(poss, col_num):\n",
    "    lhs_comp_ix = np.arange(poss.shape[0])[poss[:, col_num+1] == '=']\n",
    "\n",
    "    lhs = poss[lhs_comp_ix][:, :col_num+1].reshape(-1).view(f'<U{col_num+1}')\n",
    "    lhs_result = np.round(np.array([eval(i) for i in lhs]), 6)\n",
    "    targ_res_len = poss.shape[1] - col_num - 2\n",
    "\n",
    "    filt = np.all(np.column_stack((lhs_result >= 0,\n",
    "                                   np.mod(lhs_result, 1) == 0,\n",
    "                                   np.maximum(np.floor(np.log10(np.maximum(lhs_result, 1e-6)))+1, 1)\n",
    "                                       == targ_res_len)),\n",
    "                  axis=1)\n",
    "    poss[lhs_comp_ix[filt], col_num+2:] = lhs_result[filt].astype(int)\\\n",
    "                                                          .astype(f'<U{targ_res_len}')\\\n",
    "                                                          .view('<U1')\\\n",
    "                                                          .reshape(-1, targ_res_len)\n",
    "    return np.delete(poss, lhs_comp_ix[~filt], axis=0)\n",
    "\n",
    "def get_all_poss():\n",
    "    poss = get_initial_poss(8, [4, 5, 6])\n",
    "    explist = np.arange(1, 10).astype('<U1')\n",
    "    for col_num in range(6):\n",
    "        poss = expand_poss(poss, col_num, explist)\n",
    "        poss = poss[get_filters(poss, col_num)]\n",
    "        if col_num == 0:\n",
    "            explist = np.append(explist, list('0+-*/'))\n",
    "        elif col_num >= 3:\n",
    "            poss = complete_rhs(poss, col_num)\n",
    "    return poss"
   ]
  },
  {
   "cell_type": "code",
   "execution_count": 3,
   "id": "f75b24cc-2870-49c9-a31c-03a973c492bd",
   "metadata": {},
   "outputs": [
    {
     "data": {
      "text/plain": [
       "(17723,\n",
       " array([['1', '2', '*', '9', '=', '1', '0', '8'],\n",
       "        ['1', '3', '*', '8', '=', '1', '0', '4'],\n",
       "        ['1', '3', '*', '9', '=', '1', '1', '7'],\n",
       "        ['1', '4', '*', '8', '=', '1', '1', '2'],\n",
       "        ['1', '4', '*', '9', '=', '1', '2', '6'],\n",
       "        ['1', '5', '*', '7', '=', '1', '0', '5'],\n",
       "        ['1', '5', '*', '8', '=', '1', '2', '0'],\n",
       "        ['1', '5', '*', '9', '=', '1', '3', '5'],\n",
       "        ['1', '6', '*', '7', '=', '1', '1', '2'],\n",
       "        ['1', '6', '*', '8', '=', '1', '2', '8']], dtype='<U1'))"
      ]
     },
     "execution_count": 3,
     "metadata": {},
     "output_type": "execute_result"
    }
   ],
   "source": [
    "poss = get_all_poss()\n",
    "poss.shape[0], poss[:10]"
   ]
  },
  {
   "cell_type": "code",
   "execution_count": 166,
   "id": "049115a9-8c43-4f98-a0af-3179e5b57270",
   "metadata": {},
   "outputs": [],
   "source": [
    "i = 5\n",
    "ix[i] = np.arange(poss.shape[0])[poss[:, i] == '=']\n",
    "used = np.column_stack([np.where(np.any(poss[ix[i]] == c, axis=1), c, ' ') \n",
    "                        for c in '*+-/0123456789'])\n",
    "sortorder = np.argsort(used.reshape(-1).view('<U14'))"
   ]
  },
  {
   "cell_type": "code",
   "execution_count": 167,
   "id": "b291626f-e59b-415d-908e-798f425c94df",
   "metadata": {},
   "outputs": [
    {
     "data": {
      "text/plain": [
       "array(['14+25=39', '15+24=39', '24+15=39', '25+14=39', '41+52=93',\n",
       "       '42+51=93', '51+42=93', '52+41=93'], dtype='<U8')"
      ]
     },
     "execution_count": 167,
     "metadata": {},
     "output_type": "execute_result"
    }
   ],
   "source": [
    "tv1 = poss[ix[i][used.reshape(-1).view('<U14') == ' +   12345   9']].reshape(-1).view('<U8')\n",
    "tv1"
   ]
  },
  {
   "cell_type": "code",
   "execution_count": 169,
   "id": "04997b42-f541-4573-8f4d-eb8e27dcf0ff",
   "metadata": {},
   "outputs": [
    {
     "data": {
      "text/plain": [
       "np.int64(1)"
      ]
     },
     "execution_count": 169,
     "metadata": {},
     "output_type": "execute_result"
    }
   ],
   "source": [
    "np.sum(poss[ix[5]].reshape(-1).view('<U8') == '14+25=39')"
   ]
  },
  {
   "cell_type": "code",
   "execution_count": 187,
   "id": "6954d029-49d9-446c-86ae-e86f0ea56c3a",
   "metadata": {},
   "outputs": [
    {
     "data": {
      "text/plain": [
       "(14594820, 2)"
      ]
     },
     "execution_count": 187,
     "metadata": {},
     "output_type": "execute_result"
    }
   ],
   "source": [
    "combos.reshape(-1).view('<U8').reshape(-1, 2) "
   ]
  },
  {
   "cell_type": "code",
   "execution_count": 203,
   "id": "720f928b-9afc-4dd4-aa93-6c2a03cb6a85",
   "metadata": {},
   "outputs": [
    {
     "data": {
      "text/plain": [
       "array([False, False, False, ..., False, False, False], shape=(1388,))"
      ]
     },
     "execution_count": 203,
     "metadata": {},
     "output_type": "execute_result"
    }
   ],
   "source": [
    "n_elim[tv1] == 13"
   ]
  },
  {
   "cell_type": "code",
   "execution_count": 206,
   "id": "34a86b89-02f4-41a2-9d80-9dc5e4b2bf3b",
   "metadata": {},
   "outputs": [
    {
     "data": {
      "text/plain": [
       "array([['14+25=39', '56-7*8=0'],\n",
       "       ['14+25=39', '56/7-8=0'],\n",
       "       ['14+25=39', '60-7*8=4'],\n",
       "       ['14+25=39', '60/4-8=7'],\n",
       "       ['14+25=39', '70-8*8=6'],\n",
       "       ['14+25=39', '90/6-8=7']], dtype='<U8')"
      ]
     },
     "execution_count": 206,
     "metadata": {},
     "output_type": "execute_result"
    }
   ],
   "source": [
    "combos[tv1].reshape(-1).view('<U8').reshape(-1, 2)[n_elim[tv1] == 13]"
   ]
  },
  {
   "cell_type": "code",
   "execution_count": 196,
   "id": "30898ae9-9eb9-4c28-a12b-20f5669f90aa",
   "metadata": {},
   "outputs": [
    {
     "ename": "IndexError",
     "evalue": "boolean index did not match indexed array along axis 0; size of axis is 14594820 but size of corresponding boolean axis is 1388",
     "output_type": "error",
     "traceback": [
      "\u001b[31m---------------------------------------------------------------------------\u001b[39m",
      "\u001b[31mIndexError\u001b[39m                                Traceback (most recent call last)",
      "\u001b[36mCell\u001b[39m\u001b[36m \u001b[39m\u001b[32mIn[196]\u001b[39m\u001b[32m, line 3\u001b[39m\n\u001b[32m      1\u001b[39m tv1 = np.any(combos.reshape(-\u001b[32m1\u001b[39m).view(\u001b[33m'\u001b[39m\u001b[33m<U8\u001b[39m\u001b[33m'\u001b[39m).reshape(-\u001b[32m1\u001b[39m, \u001b[32m2\u001b[39m) == \u001b[33m'\u001b[39m\u001b[33m14+25=39\u001b[39m\u001b[33m'\u001b[39m, axis=\u001b[32m1\u001b[39m)\n\u001b[32m----> \u001b[39m\u001b[32m3\u001b[39m \u001b[43mtv1\u001b[49m\u001b[43m[\u001b[49m\u001b[43mn_elim\u001b[49m\u001b[43m[\u001b[49m\u001b[43mtv1\u001b[49m\u001b[43m]\u001b[49m\u001b[43m \u001b[49m\u001b[43m==\u001b[49m\u001b[43m \u001b[49m\u001b[32;43m13\u001b[39;49m\u001b[43m]\u001b[49m\n",
      "\u001b[31mIndexError\u001b[39m: boolean index did not match indexed array along axis 0; size of axis is 14594820 but size of corresponding boolean axis is 1388"
     ]
    }
   ],
   "source": [
    "tv1 = np.any(combos.reshape(-1).view('<U8').reshape(-1, 2) == '14+25=39', axis=1)\n",
    "\n",
    "tv1[n_elim[tv1] == 13]\n"
   ]
  },
  {
   "cell_type": "code",
   "execution_count": 178,
   "id": "8cca6f5d-4665-4d03-986e-11ef4f981a9b",
   "metadata": {},
   "outputs": [
    {
     "data": {
      "text/plain": [
       "array([444160, 444161, 444162, ..., 445545, 445546, 445547], shape=(1388,))"
      ]
     },
     "execution_count": 178,
     "metadata": {},
     "output_type": "execute_result"
    }
   ],
   "source": [
    "tv1 = np.repeat(poss[ix[i]], ix[j].shape[0], axis=0).reshape(-1).view('<U8')\n",
    "np.arange(tv1.shape[0])[tv1 == '14+25=39']"
   ]
  },
  {
   "cell_type": "code",
   "execution_count": 182,
   "id": "4e8618cf-0c48-41aa-b07d-7aea7e16cb19",
   "metadata": {},
   "outputs": [
    {
     "data": {
      "text/plain": [
       "(14594820, 8)"
      ]
     },
     "execution_count": 182,
     "metadata": {},
     "output_type": "execute_result"
    }
   ],
   "source": [
    "np.repeat(poss[ix[i]], ix[j].shape[0], axis=0).shape"
   ]
  },
  {
   "cell_type": "code",
   "execution_count": 184,
   "id": "f0c8072b-b758-4afb-a76e-1fee4f7b8ebd",
   "metadata": {},
   "outputs": [
    {
     "data": {
      "text/plain": [
       "(14594820, 16)"
      ]
     },
     "execution_count": 184,
     "metadata": {},
     "output_type": "execute_result"
    }
   ],
   "source": [
    "combos.shape"
   ]
  },
  {
   "cell_type": "code",
   "execution_count": null,
   "id": "39369d65-b6c4-48a9-baa9-0e0275f189c0",
   "metadata": {},
   "outputs": [],
   "source": [
    "np.sum(np.repeat(poss[ix[i]], ix[j].shape[0], axis=0).reshape(-1).view('<U8')  == '14+25=39')"
   ]
  },
  {
   "cell_type": "code",
   "execution_count": 176,
   "id": "23fa129d-e50e-43c5-8399-79ef7f286815",
   "metadata": {},
   "outputs": [
    {
     "data": {
      "text/plain": [
       "(5, 6)"
      ]
     },
     "execution_count": 176,
     "metadata": {},
     "output_type": "execute_result"
    }
   ],
   "source": [
    "i, j"
   ]
  },
  {
   "cell_type": "code",
   "execution_count": 183,
   "id": "d42ce07e-b65c-4261-9be9-b65683710a9e",
   "metadata": {},
   "outputs": [
    {
     "data": {
      "text/plain": [
       "array([['1+5*9=46', '30/2-7=8'],\n",
       "       ['1+6*8=49', '7-20/5=3'],\n",
       "       ['1+7*9=64', '8-30/5=2'],\n",
       "       ['1+8*6=49', '7-20/5=3'],\n",
       "       ['1+8*9=73', '40/5-2=6'],\n",
       "       ['1+9*5=46', '30/2-7=8'],\n",
       "       ['1+9*7=64', '8-30/5=2'],\n",
       "       ['1+9*8=73', '40/5-2=6'],\n",
       "       ['2+5*9=47', '18/6-3=0'],\n",
       "       ['2+9*5=47', '18/6-3=0'],\n",
       "       ['2*3+4=10', '96/8-5=7'],\n",
       "       ['2*3+9=15', '60/4-8=7'],\n",
       "       ['2*4+5=13', '90/6-8=7'],\n",
       "       ['2*7+4=18', '60/5-9=3'],\n",
       "       ['2*8-6=10', '35/7+4=9'],\n",
       "       ['3+5*9=48', '10-6/2=7'],\n",
       "       ['3+6*7=45', '2-18/9=0'],\n",
       "       ['3+6*9=57', '10-4/2=8'],\n",
       "       ['3+7*6=45', '2-18/9=0'],\n",
       "       ['3+7*8=59', '6-20/4=1'],\n",
       "       ['3+8*7=59', '6-20/4=1'],\n",
       "       ['3+8*9=75', '6-20/4=1'],\n",
       "       ['3+9*5=48', '10-6/2=7'],\n",
       "       ['3+9*6=57', '10-4/2=8'],\n",
       "       ['3+9*8=75', '6-20/4=1'],\n",
       "       ['3*2+4=10', '96/8-5=7'],\n",
       "       ['3*2+9=15', '60/4-8=7'],\n",
       "       ['3*4+8=20', '9-56/7=1'],\n",
       "       ['3*4+9=21', '56/7-8=0'],\n",
       "       ['3*6-8=10', '45/9+2=7'],\n",
       "       ['3*7+8=29', '6-10/5=4'],\n",
       "       ['3*8-4=20', '1+56/7=9'],\n",
       "       ['4+2*3=10', '96/8-5=7'],\n",
       "       ['4+2*7=18', '60/5-9=3'],\n",
       "       ['4+3*2=10', '96/8-5=7'],\n",
       "       ['4+5*7=39', '2-16/8=0'],\n",
       "       ['4+6*8=52', '10-9/3=7'],\n",
       "       ['4+6*9=58', '21/7-3=0'],\n",
       "       ['4+7*2=18', '60/5-9=3'],\n",
       "       ['4+7*5=39', '2-16/8=0'],\n",
       "       ['4+7*8=60', '9-12/3=5'],\n",
       "       ['4+8*6=52', '10-9/3=7'],\n",
       "       ['4+8*7=60', '9-12/3=5'],\n",
       "       ['4+8*9=76', '20/5-3=1'],\n",
       "       ['4+9*6=58', '21/7-3=0'],\n",
       "       ['4+9*8=76', '20/5-3=1'],\n",
       "       ['4*2+5=13', '90/6-8=7'],\n",
       "       ['4*3+8=20', '9-56/7=1'],\n",
       "       ['4*3+9=21', '56/7-8=0'],\n",
       "       ['4*6+8=32', '9-10/5=7'],\n",
       "       ['4*7-8=20', '36/9+1=5'],\n",
       "       ['4*8-2=30', '1+56/7=9'],\n",
       "       ['4*9-6=30', '5+21/7=8'],\n",
       "       ['4/2+8=10', '57-9*6=3'],\n",
       "       ['5+2*4=13', '90/6-8=7'],\n",
       "       ['5+4*2=13', '90/6-8=7'],\n",
       "       ['5+7*9=68', '12/3-4=0'],\n",
       "       ['5+9*7=68', '12/3-4=0'],\n",
       "       ['5*7+4=39', '2-16/8=0'],\n",
       "       ['5*9+1=46', '30/2-7=8'],\n",
       "       ['5*9+2=47', '18/6-3=0'],\n",
       "       ['5*9+3=48', '10-6/2=7'],\n",
       "       ['5*9-7=38', '20/4+1=6'],\n",
       "       ['5*9-8=37', '20/4+1=6'],\n",
       "       ['6+8/2=10', '39-7*5=4'],\n",
       "       ['6*3-8=10', '45/9+2=7'],\n",
       "       ['6*4+8=32', '9-10/5=7'],\n",
       "       ['6*7+3=45', '2-18/9=0'],\n",
       "       ['6*7+8=50', '9-24/3=1'],\n",
       "       ['6*7+9=51', '24/3-8=0'],\n",
       "       ['6*7-2=40', '18/9+3=5'],\n",
       "       ['6*8+1=49', '7-20/5=3'],\n",
       "       ['6*8+4=52', '10-9/3=7'],\n",
       "       ['6*8+9=57', '12/3-4=0'],\n",
       "       ['6*9+3=57', '10-4/2=8'],\n",
       "       ['6*9+4=58', '21/7-3=0'],\n",
       "       ['6*9-1=53', '40/8+2=7'],\n",
       "       ['6*9-3=51', '40/8+2=7'],\n",
       "       ['6/2+7=10', '48-5*9=3'],\n",
       "       ['6/3+8=10', '47-5*9=2'],\n",
       "       ['7+6/2=10', '48-5*9=3'],\n",
       "       ['7+9/3=10', '52-6*8=4'],\n",
       "       ['7*2+4=18', '60/5-9=3'],\n",
       "       ['7*3+8=29', '6-10/5=4'],\n",
       "       ['7*4-8=20', '36/9+1=5'],\n",
       "       ['7*5+4=39', '2-16/8=0'],\n",
       "       ['7*6+3=45', '2-18/9=0'],\n",
       "       ['7*6+8=50', '9-24/3=1'],\n",
       "       ['7*6+9=51', '24/3-8=0'],\n",
       "       ['7*6-2=40', '18/9+3=5'],\n",
       "       ['7*8+3=59', '6-20/4=1'],\n",
       "       ['7*8+4=60', '9-12/3=5'],\n",
       "       ['7*8+9=65', '12/3-4=0'],\n",
       "       ['7*8-6=50', '1+32/4=9'],\n",
       "       ['7*9+1=64', '8-30/5=2'],\n",
       "       ['7*9+5=68', '12/3-4=0'],\n",
       "       ['7*9-3=60', '5+12/4=8'],\n",
       "       ['8+3*4=20', '9-56/7=1'],\n",
       "       ['8+3*7=29', '6-10/5=4'],\n",
       "       ['8+4*3=20', '9-56/7=1'],\n",
       "       ['8+4*6=32', '9-10/5=7'],\n",
       "       ['8+4/2=10', '57-9*6=3'],\n",
       "       ['8+6*4=32', '9-10/5=7'],\n",
       "       ['8+6*7=50', '9-24/3=1'],\n",
       "       ['8+6/3=10', '47-5*9=2'],\n",
       "       ['8+7*3=29', '6-10/5=4'],\n",
       "       ['8+7*6=50', '9-24/3=1'],\n",
       "       ['8*2-6=10', '35/7+4=9'],\n",
       "       ['8*3-4=20', '1+56/7=9'],\n",
       "       ['8*4-2=30', '1+56/7=9'],\n",
       "       ['8*6+1=49', '7-20/5=3'],\n",
       "       ['8*6+4=52', '10-9/3=7'],\n",
       "       ['8*6+9=57', '12/3-4=0'],\n",
       "       ['8*7+3=59', '6-20/4=1'],\n",
       "       ['8*7+4=60', '9-12/3=5'],\n",
       "       ['8*7+9=65', '12/3-4=0'],\n",
       "       ['8*7-6=50', '1+32/4=9'],\n",
       "       ['8*9+1=73', '40/5-2=6'],\n",
       "       ['8*9+3=75', '6-20/4=1'],\n",
       "       ['8*9+4=76', '20/5-3=1'],\n",
       "       ['8/2+6=10', '39-7*5=4'],\n",
       "       ['9+2*3=15', '60/4-8=7'],\n",
       "       ['9+3*2=15', '60/4-8=7'],\n",
       "       ['9+3*4=21', '56/7-8=0'],\n",
       "       ['9+4*3=21', '56/7-8=0'],\n",
       "       ['9+6*7=51', '24/3-8=0'],\n",
       "       ['9+6*8=57', '12/3-4=0'],\n",
       "       ['9+7*6=51', '24/3-8=0'],\n",
       "       ['9+7*8=65', '12/3-4=0'],\n",
       "       ['9+8*6=57', '12/3-4=0'],\n",
       "       ['9+8*7=65', '12/3-4=0'],\n",
       "       ['9*4-6=30', '5+21/7=8'],\n",
       "       ['9*5+1=46', '30/2-7=8'],\n",
       "       ['9*5+2=47', '18/6-3=0'],\n",
       "       ['9*5+3=48', '10-6/2=7'],\n",
       "       ['9*5-7=38', '20/4+1=6'],\n",
       "       ['9*5-8=37', '20/4+1=6'],\n",
       "       ['9*6+3=57', '10-4/2=8'],\n",
       "       ['9*6+4=58', '21/7-3=0'],\n",
       "       ['9*6-1=53', '40/8+2=7'],\n",
       "       ['9*6-3=51', '40/8+2=7'],\n",
       "       ['9*7+1=64', '8-30/5=2'],\n",
       "       ['9*7+5=68', '12/3-4=0'],\n",
       "       ['9*7-3=60', '5+12/4=8'],\n",
       "       ['9*8+1=73', '40/5-2=6'],\n",
       "       ['9*8+3=75', '6-20/4=1'],\n",
       "       ['9*8+4=76', '20/5-3=1'],\n",
       "       ['9/3+7=10', '52-6*8=4']], dtype='<U8')"
      ]
     },
     "execution_count": 183,
     "metadata": {},
     "output_type": "execute_result"
    }
   ],
   "source": [
    "# ix = dict()\n",
    "# for i in range(5, 7):\n",
    "#     ix[i] = np.arange(poss.shape[0])[poss[:, i] == '=']\n",
    "#     used = np.column_stack([np.where(np.any(poss[ix[i]] == c, axis=1), c, ' ') \n",
    "#                             for c in '*+-/0123456789'])\n",
    "#     sortorder = np.argsort(used.reshape(-1).view('<U14'))\n",
    "#     ix[i] = ix[i][np.any(used[sortorder]\n",
    "#                          != np.append([[' ']*14], \n",
    "#                                       used[sortorder][:-1], \n",
    "#                                       axis=0), \n",
    "#                          axis=1)[np.argsort(sortorder)]]\n",
    "\n",
    "i = 5\n",
    "j = 6\n",
    "\n",
    "combos = np.column_stack((np.repeat(poss[ix[i]], ix[j].shape[0], axis=0),\n",
    "                          np.tile(poss[ix[j]], (ix[i].shape[0], 1))))\n",
    "n_elim = np.sum(np.column_stack([np.any(combos == c, axis=1) for c in '*+-/0123456789']), axis=1)\n",
    "combos[n_elim == 14].reshape(-1).view('<U8').reshape(-1, 2)"
   ]
  },
  {
   "cell_type": "code",
   "execution_count": 108,
   "id": "25a59ca8-2ff3-4e80-b333-deeb8f4ccbc0",
   "metadata": {},
   "outputs": [
    {
     "data": {
      "text/plain": [
       "array([['6', '9', '+', '1', '4', '=', '8', '3']], dtype='<U1')"
      ]
     },
     "execution_count": 108,
     "metadata": {},
     "output_type": "execute_result"
    }
   ],
   "source": [
    "filt = np.all(np.column_stack([\n",
    "                  poss[:, 5] == '=',\n",
    "                  np.all(poss != '5', axis=1),\n",
    "                  np.all(poss != '*', axis=1),\n",
    "                  np.all(poss != '0', axis=1),\n",
    "                  np.all(poss != '/', axis=1),\n",
    "                  np.all(poss != '2', axis=1),\n",
    "                  np.all(poss != '-', axis=1),\n",
    "                  np.all(poss != '7', axis=1),\n",
    "                  poss[:, 0] != '1',\n",
    "                  np.sum(poss == '1', axis=1) >= 1,\n",
    "                  poss[:, 1] != '+',\n",
    "                  np.sum(poss == '+', axis=1) >= 1,\n",
    "                  poss[:, 4] != '9',\n",
    "                  np.sum(poss == '9', axis=1) >= 1,\n",
    "                  poss[:, 6] != '4',\n",
    "                  np.sum(poss == '4', axis=1) >= 1,\n",
    "                  poss[:, 7] != '6',\n",
    "                  np.sum(poss == '6', axis=1) >= 1,\n",
    "                  poss[:, 0] != '3',\n",
    "                  np.sum(poss == '3', axis=1) >= 1,\n",
    "                  poss[:, 7] != '8',\n",
    "                  np.sum(poss == '8', axis=1) >= 1,\n",
    "              ]),\n",
    "              axis=1)\n",
    "\n",
    "poss[filt]"
   ]
  },
  {
   "cell_type": "code",
   "execution_count": 124,
   "id": "c3e338b3-4d54-4679-bd10-449409aea9cb",
   "metadata": {},
   "outputs": [],
   "source": [
    "def poss_after_2(fb, g2='1+5*9=4630/2-7=8'):\n",
    "    filt = []\n",
    "    for i in range(16):\n",
    "        if fb[i] == '2':\n",
    "            filt += [poss[:, i % 8] == g2[i]]\n",
    "        elif fb[i] == '0':\n",
    "            filt += [np.all(poss != g2[i], axis=1)]\n",
    "        else:\n",
    "            filt += [poss[:, i % 8] != g2[i]]\n",
    "            filt += [np.any(poss == g2[i], axis=1)]    \n",
    "    filt = np.all(np.column_stack(filt), axis=1)\n",
    "    return poss[filt].reshape(-1).view('<U8')"
   ]
  },
  {
   "cell_type": "code",
   "execution_count": 129,
   "id": "6658a03e-9eb6-4659-85a6-88276253a10c",
   "metadata": {},
   "outputs": [
    {
     "data": {
      "text/plain": [
       "array(['68-11=57', '68-17=51', '68-51=17', '68-57=11', '85-18=67',\n",
       "       '85-68=17', '86-11=75', '86-15=71', '86-71=15', '86-75=11'],\n",
       "      dtype='<U8')"
      ]
     },
     "execution_count": 129,
     "metadata": {},
     "output_type": "execute_result"
    }
   ],
   "source": [
    "poss_after_2('1010020100001111')"
   ]
  },
  {
   "cell_type": "code",
   "execution_count": 130,
   "id": "59dd9892-348c-466d-a58c-94ed01496454",
   "metadata": {},
   "outputs": [
    {
     "data": {
      "text/plain": [
       "array(['82-19=63', '82-69=13'], dtype='<U8')"
      ]
     },
     "execution_count": 130,
     "metadata": {},
     "output_type": "execute_result"
    }
   ],
   "source": [
    "poss_after_2('1000220110011011')"
   ]
  },
  {
   "cell_type": "code",
   "execution_count": 131,
   "id": "8d81c435-9cd5-40eb-9b2b-29bdd96121e7",
   "metadata": {},
   "outputs": [
    {
     "data": {
      "text/plain": [
       "array(['5*3*3=45'], dtype='<U8')"
      ]
     },
     "execution_count": 131,
     "metadata": {},
     "output_type": "execute_result"
    }
   ],
   "source": [
    "poss_after_2('0012022010000010')"
   ]
  },
  {
   "cell_type": "code",
   "execution_count": 132,
   "id": "d66b703c-0866-437b-85b4-10d00e1ac695",
   "metadata": {},
   "outputs": [
    {
     "data": {
      "text/plain": [
       "array(['39-11=28'], dtype='<U8')"
      ]
     },
     "execution_count": 132,
     "metadata": {},
     "output_type": "execute_result"
    }
   ],
   "source": [
    "poss_after_2('1000120020011012')"
   ]
  },
  {
   "cell_type": "code",
   "execution_count": 503,
   "id": "afea04a9-ad2e-4a9e-b80f-92c8107c001a",
   "metadata": {},
   "outputs": [
    {
     "name": "stdout",
     "output_type": "stream",
     "text": [
      "Number of possible words: 17723\n"
     ]
    },
    {
     "name": "stdin",
     "output_type": "stream",
     "text": [
      "What you inserted (enter 'b' if it was the best choice):  14+25=39\n",
      "Mask:  20011110\n"
     ]
    },
    {
     "name": "stdout",
     "output_type": "stream",
     "text": [
      "Number of possible words: 20\n"
     ]
    },
    {
     "name": "stderr",
     "output_type": "stream",
     "text": [
      "100%|██████████| 17723/17723 [00:00<00:00, 18198.02it/s]\n"
     ]
    },
    {
     "name": "stdout",
     "output_type": "stream",
     "text": [
      "Best choice: 13-5-6=2\n",
      "Average information: 4.321928094887363\n",
      "============\n"
     ]
    },
    {
     "name": "stdin",
     "output_type": "stream",
     "text": [
      "What you inserted (enter 'b' if it was the best choice):  b\n",
      "Mask:  22220021\n"
     ]
    },
    {
     "name": "stdout",
     "output_type": "stream",
     "text": [
      "Number of possible words: 1\n",
      "Best choice: 13-5*2=3\n",
      "Average information: 0\n",
      "Possible words: ['13-5*2=3']\n",
      "============\n"
     ]
    },
    {
     "name": "stdin",
     "output_type": "stream",
     "text": [
      "What you inserted (enter 'b' if it was the best choice):  b\n",
      "Mask:  22222222\n"
     ]
    },
    {
     "name": "stdout",
     "output_type": "stream",
     "text": [
      "Number of possible words: 1\n",
      "Best choice: 13-5*2=3\n",
      "Average information: 0\n",
      "Possible words: ['13-5*2=3']\n"
     ]
    }
   ],
   "source": [
    "# words = poss.reshape(-1).view('<U8').tolist()\n",
    "\n",
    "# From https://github.com/pedrokkrause/Nerdle-Equations/blob/main/wordle.py:\n",
    "from math import log2\n",
    "from tqdm import tqdm\n",
    "from collections import defaultdict\n",
    "from time import sleep\n",
    "from copy import deepcopy\n",
    "\n",
    "def genmaskW(expression,correct):\n",
    "    mask = ['N']*len(expression)\n",
    "    count = defaultdict(lambda: 0)\n",
    "    for i, x in enumerate(expression):\n",
    "        if x == correct[i]:\n",
    "            mask[i] = '2'\n",
    "            count[x] += 1\n",
    "    for i,x in enumerate(expression):\n",
    "        if x not in correct:\n",
    "            mask[i] = '0'\n",
    "        elif x != correct[i]:\n",
    "            if count[x] < correct.count(x):\n",
    "                mask[i] = '1'\n",
    "                count[x] += 1\n",
    "            else:\n",
    "                mask[i] = '0'\n",
    "    return(''.join(mask))\n",
    "\n",
    "def checkmaskW(mask,expression,correct):\n",
    "    if mask == genmaskW(expression,correct):\n",
    "        return(True)\n",
    "    else:\n",
    "        return(False)\n",
    "\n",
    "def allmasksW(expression,dictionary):\n",
    "    masks = defaultdict(lambda: 0)\n",
    "    for expression2 in dictionary:\n",
    "        mask = genmaskW(expression,expression2)\n",
    "        masks[mask] += 1\n",
    "    return(masks)\n",
    "\n",
    "def filtermaskW(mask,expression,dictionary):\n",
    "    local = [x for x in dictionary if checkmaskW(mask,expression,x)]\n",
    "    return(local)\n",
    "\n",
    "def searchW(dictionary,possible=None):\n",
    "    if possible==None:\n",
    "        possible = dictionary\n",
    "    if len(possible) == 1 or len(dictionary) == 1:\n",
    "        return([possible[0],0,possible[0] in dictionary])\n",
    "    best = None\n",
    "    expected = 0\n",
    "    length = len(possible)\n",
    "    for expression in tqdm(dictionary):\n",
    "        localexp = 0\n",
    "        allmaskss = allmasksW(expression,possible)\n",
    "        for mask in allmaskss:\n",
    "            prob = allmaskss[mask]/length\n",
    "            localexp += -prob*log2(prob)\n",
    "        if localexp > expected or (localexp >= expected and expression in possible):\n",
    "            best = expression\n",
    "            expected = localexp\n",
    "            if len(possible) > 10000:\n",
    "                print([best,expected,best in possible])\n",
    "    return([best,expected,best in possible])\n",
    "\n",
    "possiblewords = deepcopy(words)\n",
    "print(\"Number of possible words:\",len(possiblewords))\n",
    "best = ['48-32=16']\n",
    "while True:\n",
    "    ans1 = input(\"What you inserted (enter 'b' if it was the best choice): \")\n",
    "    ans2 = input(\"Mask: \")\n",
    "    if ans1 == 'b':\n",
    "        ans1 = best[0]\n",
    "    possiblewords = filtermaskW(ans2,ans1,possiblewords)\n",
    "    print(\"Number of possible words:\",len(possiblewords))\n",
    "    best = searchW(words,possiblewords)\n",
    "    print(\"Best choice:\",best[0])\n",
    "    print(\"Average information:\",best[1])\n",
    "    if len(possiblewords) < 7:\n",
    "        print(\"Possible words:\",possiblewords)\n",
    "    if ans2 == '22222222':\n",
    "        break\n",
    "    print(\"============\")"
   ]
  }
 ],
 "metadata": {
  "kernelspec": {
   "display_name": "Python 3 (ipykernel)",
   "language": "python",
   "name": "python3"
  },
  "language_info": {
   "codemirror_mode": {
    "name": "ipython",
    "version": 3
   },
   "file_extension": ".py",
   "mimetype": "text/x-python",
   "name": "python",
   "nbconvert_exporter": "python",
   "pygments_lexer": "ipython3",
   "version": "3.13.3"
  }
 },
 "nbformat": 4,
 "nbformat_minor": 5
}
