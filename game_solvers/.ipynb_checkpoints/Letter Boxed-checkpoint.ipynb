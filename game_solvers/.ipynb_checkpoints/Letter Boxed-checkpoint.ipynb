{
 "cells": [
  {
   "cell_type": "code",
   "execution_count": 1,
   "id": "554464ed-b9b8-4dff-8d5a-1aedf1cb6a03",
   "metadata": {},
   "outputs": [],
   "source": [
    "import numpy as np\n",
    "\n",
    "ALL_WORDS = np.array(open('../data/scrabble_dict.txt', 'r').read().split('\\n'))\n",
    "\n",
    "def get_valid_words(puzzle):\n",
    "    \"\"\"\n",
    "    Return valid words given puzzle letters, with first and last letter arrays.\n",
    "    \"\"\"\n",
    "    sideconv = np.vectorize({**{j: int(puzzle.index(j)/3)+1 if j in puzzle else -1\n",
    "                                for j in [chr(i+65) for i in range(26)]},\n",
    "                             '': 0}.get)\n",
    "    word_letters = ALL_WORDS.view('<U1').reshape(ALL_WORDS.shape[0], -1)\n",
    "    word_sides = sideconv(word_letters)\n",
    "    \n",
    "    filt = (~np.any(word_sides == -1, axis=1))\\\n",
    "           & (~np.any((word_sides[:, 1:] > 0) \n",
    "                      & (word_sides[:, 1:] == word_sides[:, :-1]), axis=1))\n",
    "\n",
    "    return (ALL_WORDS[filt],\n",
    "            word_letters[filt, 0],\n",
    "            word_letters[filt][np.arange(np.sum(filt)), \n",
    "                               np.sum(word_letters[filt] != '', axis=1)-1])\n",
    "\n",
    "def solve(puzzle):\n",
    "    \"\"\"\n",
    "    Find all solutions to puzzle with shortest possible number of words.\n",
    "    \"\"\"\n",
    "    valid_words, first_letter, last_letter = get_valid_words(puzzle)\n",
    "    \n",
    "    poss = np.expand_dims(valid_words, 1)\n",
    "    poss_ll = np.copy(last_letter)\n",
    "\n",
    "    while True:\n",
    "        ulchk = poss.view('<U1').reshape(poss.shape[0], -1)\n",
    "        used_letters = np.column_stack([np.any(ulchk == i, axis=1) for i in puzzle])\n",
    "        n_used_letters = np.sum(used_letters, axis=1)\n",
    "        if np.sum(n_used_letters == 12):\n",
    "            break\n",
    "\n",
    "        lmfilt = np.repeat(poss_ll, valid_words.shape[0]) == np.tile(first_letter, poss.shape[0])\n",
    "        ix1 = np.repeat(np.arange(poss.shape[0]), valid_words.shape[0])[lmfilt]\n",
    "        ix2 = np.tile(np.arange(valid_words.shape[0]), poss.shape[0])[lmfilt]\n",
    "        poss = np.column_stack((poss[ix1], valid_words[ix2]))\n",
    "        poss_ll = last_letter[ix2]\n",
    "\n",
    "    return poss[n_used_letters == 12]"
   ]
  },
  {
   "cell_type": "code",
   "execution_count": 2,
   "id": "1ea938d7-32b3-491b-95c1-2ee238c7c8ba",
   "metadata": {},
   "outputs": [
    {
     "data": {
      "text/plain": [
       "array([['BEHEMOTH', 'HUCKING'],\n",
       "       ['BEMOCKING', 'GUICHET'],\n",
       "       ['BETHUMB', 'BECKONING'],\n",
       "       ['BETHUMB', 'BEMOCKING'],\n",
       "       ['BIOMIMETIC', 'CHUCKING'],\n",
       "       ['BIOMIMETIC', 'CHUNKING'],\n",
       "       ['COCKET', 'THUMBING'],\n",
       "       ['KOHUTUHUTU', 'UNBECOMING'],\n",
       "       ['NOCKET', 'THUMBING'],\n",
       "       ['TECHNIKON', 'NUMBING'],\n",
       "       ['THUMB', 'BECKONING'],\n",
       "       ['THUMB', 'BEMOCKING'],\n",
       "       ['THUMBKIN', 'NEOGOTHIC']], dtype='<U15')"
      ]
     },
     "execution_count": 2,
     "metadata": {},
     "output_type": "execute_result"
    }
   ],
   "source": [
    "solve('KHMBUOEGICTN')"
   ]
  }
 ],
 "metadata": {
  "kernelspec": {
   "display_name": "Python 3 (ipykernel)",
   "language": "python",
   "name": "python3"
  },
  "language_info": {
   "codemirror_mode": {
    "name": "ipython",
    "version": 3
   },
   "file_extension": ".py",
   "mimetype": "text/x-python",
   "name": "python",
   "nbconvert_exporter": "python",
   "pygments_lexer": "ipython3",
   "version": "3.13.5"
  }
 },
 "nbformat": 4,
 "nbformat_minor": 5
}
