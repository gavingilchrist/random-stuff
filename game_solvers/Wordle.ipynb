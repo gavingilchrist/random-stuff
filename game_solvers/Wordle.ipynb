{
 "cells": [
  {
   "cell_type": "code",
   "execution_count": 1,
   "id": "5a449c6e-a827-4dd8-9562-8091a775b722",
   "metadata": {},
   "outputs": [],
   "source": [
    "import numpy as np\n",
    "\n",
    "# Read word lists, create index dicts\n",
    "with open('../data/guesses.txt', 'r') as f:\n",
    "    guesses = np.array(f.read().split(','))\n",
    "n_guesses = guesses.shape[0]\n",
    "guess_ix = dict(zip(guesses, np.arange(n_guesses)))\n",
    "with open('../data/solutions.txt', 'r') as f:\n",
    "    solutions = np.array(f.read().split(','))\n",
    "n_solutions = solutions.shape[0]\n",
    "solution_ix = dict(zip(solutions, np.arange(n_solutions)))"
   ]
  },
  {
   "cell_type": "code",
   "execution_count": null,
   "id": "ec54c269",
   "metadata": {},
   "outputs": [
    {
     "name": "stdout",
     "output_type": "stream",
     "text": [
      "Z"
     ]
    }
   ],
   "source": [
    "# Create feedback grid\n",
    "guesses_l = guesses.view('<U1').reshape(-1, 1, 5)\n",
    "solutions_l = solutions.view('<U1').reshape(1, -1, 5)\n",
    "fb_grid = np.where(guesses_l == solutions_l, '2', '0')\n",
    "for l in [chr(i+65) for i in range(26)]:\n",
    "    print(f'\\r{l}', end='')\n",
    "    ix_g = np.repeat(np.arange(n_guesses), n_solutions)\n",
    "    ix_s = np.tile(np.arange(n_solutions), n_guesses)\n",
    "    ng_g = (guesses_l[ix_g, 0] == l) & (fb_grid.reshape(-1, 5) == '0')\n",
    "    ng_s = (solutions_l[0, ix_s] == l) & (fb_grid.reshape(-1, 5) == '0')\n",
    "    filt = np.any(ng_g, axis=1) & np.any(ng_s, axis=1)\n",
    "    ix_g, ix_s, ix_l = [i[(ng_g[filt].reshape(-1) \n",
    "                          & (np.cumsum(ng_g[filt], axis=1) \n",
    "                             <= np.sum(ng_s[filt], axis=1, keepdims=True)).reshape(-1))]\n",
    "                        for i in [np.repeat(ix_g[filt], 5), \n",
    "                                  np.repeat(ix_s[filt], 5), \n",
    "                                  np.tile(np.arange(5), np.sum(filt))]]\n",
    "    fb_grid[ix_g, ix_s, ix_l] = '1'\n",
    "fb_grid = np.squeeze(fb_grid.view('<U5'))"
   ]
  },
  {
   "cell_type": "code",
   "execution_count": 92,
   "id": "436903c5",
   "metadata": {},
   "outputs": [],
   "source": [
    "def exp_steps(poss):\n",
    "    best_guess, best_score = '', 99\n",
    "    if isinstance(poss, str):  poss = np.array([poss])\n",
    "    elif isinstance(poss, list):  poss = np.array(poss)\n",
    "    for guess in poss:\n",
    "        fb = np.column_stack(((z:=fb_grid[[guess_ix[guess]]*poss.shape[0], \n",
    "                                          np.vectorize(solution_ix.get)(poss)]), \n",
    "                              poss))[np.argsort(z)]\n",
    "        if (sc:=sum([(1 if i == '22222' else 1 + exp_steps(fb[fb[:, 0]==i, 1])[0]) * j \n",
    "                     for i, j in zip(*np.unique(z, return_counts=True))]) / len(poss)) < best_score:\n",
    "            best_guess, best_score = guess, sc\n",
    "    return best_score.item(), best_guess.item()"
   ]
  },
  {
   "cell_type": "code",
   "execution_count": 94,
   "id": "687834fd",
   "metadata": {},
   "outputs": [],
   "source": [
    "poss = np.array(solutions)"
   ]
  },
  {
   "cell_type": "code",
   "execution_count": 95,
   "id": "15e3af7d",
   "metadata": {},
   "outputs": [
    {
     "ename": "KeyboardInterrupt",
     "evalue": "",
     "output_type": "error",
     "traceback": [
      "\u001b[31m---------------------------------------------------------------------------\u001b[39m",
      "\u001b[31mKeyboardInterrupt\u001b[39m                         Traceback (most recent call last)",
      "\u001b[36mCell\u001b[39m\u001b[36m \u001b[39m\u001b[32mIn[95]\u001b[39m\u001b[32m, line 1\u001b[39m\n\u001b[32m----> \u001b[39m\u001b[32m1\u001b[39m \u001b[43mexp_steps\u001b[49m\u001b[43m(\u001b[49m\u001b[43mposs\u001b[49m\u001b[43m)\u001b[49m\n",
      "\u001b[36mCell\u001b[39m\u001b[36m \u001b[39m\u001b[32mIn[92]\u001b[39m\u001b[32m, line 9\u001b[39m, in \u001b[36mexp_steps\u001b[39m\u001b[34m(poss)\u001b[39m\n\u001b[32m      5\u001b[39m \u001b[38;5;28;01mfor\u001b[39;00m guess \u001b[38;5;129;01min\u001b[39;00m poss:\n\u001b[32m      6\u001b[39m     fb = np.column_stack(((z:=fb_grid[[guess_ix[guess]]*poss.shape[\u001b[32m0\u001b[39m], \n\u001b[32m      7\u001b[39m                                       np.vectorize(solution_ix.get)(poss)]), \n\u001b[32m      8\u001b[39m                           poss))[np.argsort(z)]\n\u001b[32m----> \u001b[39m\u001b[32m9\u001b[39m     \u001b[38;5;28;01mif\u001b[39;00m (sc:=\u001b[38;5;28msum\u001b[39m([(\u001b[32m1\u001b[39m \u001b[38;5;28;01mif\u001b[39;00m i == \u001b[33m'\u001b[39m\u001b[33m22222\u001b[39m\u001b[33m'\u001b[39m \u001b[38;5;28;01melse\u001b[39;00m \u001b[32m1\u001b[39m + \u001b[43mexp_steps\u001b[49m\u001b[43m(\u001b[49m\u001b[43mfb\u001b[49m\u001b[43m[\u001b[49m\u001b[43mfb\u001b[49m\u001b[43m[\u001b[49m\u001b[43m:\u001b[49m\u001b[43m,\u001b[49m\u001b[43m \u001b[49m\u001b[32;43m0\u001b[39;49m\u001b[43m]\u001b[49m\u001b[43m==\u001b[49m\u001b[43mi\u001b[49m\u001b[43m,\u001b[49m\u001b[43m \u001b[49m\u001b[32;43m1\u001b[39;49m\u001b[43m]\u001b[49m\u001b[43m)\u001b[49m[\u001b[32m0\u001b[39m]) * j \n\u001b[32m     10\u001b[39m                  \u001b[38;5;28;01mfor\u001b[39;00m i, j \u001b[38;5;129;01min\u001b[39;00m \u001b[38;5;28mzip\u001b[39m(*np.unique(z, return_counts=\u001b[38;5;28;01mTrue\u001b[39;00m))]) / \u001b[38;5;28mlen\u001b[39m(poss)) < best_score:\n\u001b[32m     11\u001b[39m         best_guess, best_score = guess, sc\n\u001b[32m     12\u001b[39m \u001b[38;5;28;01mreturn\u001b[39;00m best_score.item(), best_guess.item()\n",
      "\u001b[36mCell\u001b[39m\u001b[36m \u001b[39m\u001b[32mIn[92]\u001b[39m\u001b[32m, line 9\u001b[39m, in \u001b[36mexp_steps\u001b[39m\u001b[34m(poss)\u001b[39m\n\u001b[32m      5\u001b[39m \u001b[38;5;28;01mfor\u001b[39;00m guess \u001b[38;5;129;01min\u001b[39;00m poss:\n\u001b[32m      6\u001b[39m     fb = np.column_stack(((z:=fb_grid[[guess_ix[guess]]*poss.shape[\u001b[32m0\u001b[39m], \n\u001b[32m      7\u001b[39m                                       np.vectorize(solution_ix.get)(poss)]), \n\u001b[32m      8\u001b[39m                           poss))[np.argsort(z)]\n\u001b[32m----> \u001b[39m\u001b[32m9\u001b[39m     \u001b[38;5;28;01mif\u001b[39;00m (sc:=\u001b[38;5;28msum\u001b[39m([(\u001b[32m1\u001b[39m \u001b[38;5;28;01mif\u001b[39;00m i == \u001b[33m'\u001b[39m\u001b[33m22222\u001b[39m\u001b[33m'\u001b[39m \u001b[38;5;28;01melse\u001b[39;00m \u001b[32m1\u001b[39m + \u001b[43mexp_steps\u001b[49m\u001b[43m(\u001b[49m\u001b[43mfb\u001b[49m\u001b[43m[\u001b[49m\u001b[43mfb\u001b[49m\u001b[43m[\u001b[49m\u001b[43m:\u001b[49m\u001b[43m,\u001b[49m\u001b[43m \u001b[49m\u001b[32;43m0\u001b[39;49m\u001b[43m]\u001b[49m\u001b[43m==\u001b[49m\u001b[43mi\u001b[49m\u001b[43m,\u001b[49m\u001b[43m \u001b[49m\u001b[32;43m1\u001b[39;49m\u001b[43m]\u001b[49m\u001b[43m)\u001b[49m[\u001b[32m0\u001b[39m]) * j \n\u001b[32m     10\u001b[39m                  \u001b[38;5;28;01mfor\u001b[39;00m i, j \u001b[38;5;129;01min\u001b[39;00m \u001b[38;5;28mzip\u001b[39m(*np.unique(z, return_counts=\u001b[38;5;28;01mTrue\u001b[39;00m))]) / \u001b[38;5;28mlen\u001b[39m(poss)) < best_score:\n\u001b[32m     11\u001b[39m         best_guess, best_score = guess, sc\n\u001b[32m     12\u001b[39m \u001b[38;5;28;01mreturn\u001b[39;00m best_score.item(), best_guess.item()\n",
      "    \u001b[31m[... skipping similar frames: exp_steps at line 9 (8 times)]\u001b[39m\n",
      "\u001b[36mCell\u001b[39m\u001b[36m \u001b[39m\u001b[32mIn[92]\u001b[39m\u001b[32m, line 9\u001b[39m, in \u001b[36mexp_steps\u001b[39m\u001b[34m(poss)\u001b[39m\n\u001b[32m      5\u001b[39m \u001b[38;5;28;01mfor\u001b[39;00m guess \u001b[38;5;129;01min\u001b[39;00m poss:\n\u001b[32m      6\u001b[39m     fb = np.column_stack(((z:=fb_grid[[guess_ix[guess]]*poss.shape[\u001b[32m0\u001b[39m], \n\u001b[32m      7\u001b[39m                                       np.vectorize(solution_ix.get)(poss)]), \n\u001b[32m      8\u001b[39m                           poss))[np.argsort(z)]\n\u001b[32m----> \u001b[39m\u001b[32m9\u001b[39m     \u001b[38;5;28;01mif\u001b[39;00m (sc:=\u001b[38;5;28msum\u001b[39m([(\u001b[32m1\u001b[39m \u001b[38;5;28;01mif\u001b[39;00m i == \u001b[33m'\u001b[39m\u001b[33m22222\u001b[39m\u001b[33m'\u001b[39m \u001b[38;5;28;01melse\u001b[39;00m \u001b[32m1\u001b[39m + exp_steps(fb[fb[:, \u001b[32m0\u001b[39m]==i, \u001b[32m1\u001b[39m])[\u001b[32m0\u001b[39m]) * j \n\u001b[32m     10\u001b[39m                  \u001b[38;5;28;01mfor\u001b[39;00m i, j \u001b[38;5;129;01min\u001b[39;00m \u001b[38;5;28mzip\u001b[39m(*np.unique(z, return_counts=\u001b[38;5;28;01mTrue\u001b[39;00m))]) / \u001b[38;5;28mlen\u001b[39m(poss)) < best_score:\n\u001b[32m     11\u001b[39m         best_guess, best_score = guess, sc\n\u001b[32m     12\u001b[39m \u001b[38;5;28;01mreturn\u001b[39;00m best_score.item(), best_guess.item()\n",
      "\u001b[31mKeyboardInterrupt\u001b[39m: "
     ]
    }
   ],
   "source": [
    "exp_steps(poss)"
   ]
  },
  {
   "cell_type": "code",
   "execution_count": null,
   "id": "ba907d74",
   "metadata": {},
   "outputs": [],
   "source": [
    "    best_guess, best_score = '', 99\n",
    "    for guess in poss:\n",
    "        fb = np.column_stack(((z:=fb_grid[[guess_ix[guess]]*poss.shape[0], \n",
    "                                          np.vectorize(solution_ix.get)(poss)]), \n",
    "                              poss))[np.argsort(z)]\n",
    "    if (sc:=sum([[1 + exp_steps(fb[fb[:, 0]==i, 1]), 1][i == '22222'] * j \n",
    "                 for i, j in zip(*np.unique(z, return_counts=True))]) / len(poss)) < best_score:\n",
    "        best_guess, best_score = guess, sc\n",
    "    return best_guess, best_score"
   ]
  },
  {
   "cell_type": "code",
   "execution_count": null,
   "id": "c918d561",
   "metadata": {},
   "outputs": [],
   "source": [
    "i='02002'\n",
    "j=4"
   ]
  },
  {
   "cell_type": "code",
   "execution_count": 59,
   "id": "00f6f6dc",
   "metadata": {},
   "outputs": [
    {
     "data": {
      "text/plain": [
       "array(['HAPPY', 'JAZZY', 'PATTY', 'TATTY'], dtype='<U5')"
      ]
     },
     "execution_count": 59,
     "metadata": {},
     "output_type": "execute_result"
    }
   ],
   "source": [
    "fb[fb[:, 0]==i, 1]"
   ]
  },
  {
   "cell_type": "code",
   "execution_count": null,
   "id": "8b59a571",
   "metadata": {},
   "outputs": [],
   "source": []
  },
  {
   "cell_type": "code",
   "execution_count": 2,
   "id": "e146abcb-5c4e-4aaf-9259-b61787e68603",
   "metadata": {},
   "outputs": [],
   "source": [
    "def worthwhile_guesses(subgrid):\n",
    "    \"\"\"\n",
    "    Filter out guesses with duplicate results or that don't reduce possibilities;\n",
    "    return (1) indices for worthwhile guesses and (2) grouping flags\n",
    "    \"\"\"\n",
    "    sg_gps = np.zeros_like(subgrid, dtype=int)\n",
    "    exp_wds = np.zeros_like(subgrid[:, 0], dtype=float)\n",
    "    ncols = subgrid.shape[1]\n",
    "    rix = np.arange(n_guesses)\n",
    "    lbl = 0\n",
    "    while np.any(sg_gps == 0):\n",
    "        rix = rix[np.any(sg_gps[rix] == 0, axis=1)]\n",
    "        cix = np.min(np.where(sg_gps[rix] == 0, \n",
    "                              np.expand_dims(np.arange(ncols), 0), \n",
    "                              subgrid.shape[1]),\n",
    "                     axis=1)\n",
    "        lbl += 1\n",
    "        sg_gps[rix] = np.where(subgrid[rix] == np.expand_dims(subgrid[rix, cix], 1), \n",
    "                               lbl, \n",
    "                               sg_gps[rix])\n",
    "        exp_wds[rix] += (np.sum(sg_gps[rix] == lbl, axis=1) ** 2) / ncols\n",
    "    \n",
    "    sortix = np.lexsort([np.all(subgrid != '22222', axis=1),\n",
    "                         *[sg_gps[:, i] for i in range(ncols-1, -1, -1)],\n",
    "                         exp_wds])\n",
    "    filt = np.any(sg_gps[sortix] != np.append(np.zeros_like(sg_gps[sortix][:1]), \n",
    "                                              sg_gps[sortix][:-1], \n",
    "                                              axis=0),\n",
    "                  axis=1)\n",
    "    filt2 = np.any(subgrid[sortix][filt] == '22222', axis=1)\\\n",
    "            | (exp_wds[sortix][filt] < (np.minimum(np.max(exp_wds[sortix][filt][:10]) * 2, ncols)))\n",
    "    \n",
    "    return np.arange(n_guesses)[sortix][filt][filt2], sg_gps[sortix][filt][filt2]\n",
    "\n",
    "WORDGP_DICT = {'n_wordgps': 0}\n",
    "def get_wordgp_id(wordgp, subdict):\n",
    "    if len(wordgp) == 0:\n",
    "        if 'ID' not in subdict:\n",
    "            subdict['ID'] = WORDGP_DICT['n_wordgps']\n",
    "            WORDGP_DICT['n_wordgps'] += 1\n",
    "        return subdict['ID']\n",
    "    else:\n",
    "        if wordgp[0] not in subdict:\n",
    "            subdict[wordgp[0]] = dict()\n",
    "        return get_wordgp_id(wordgp[1:], subdict[wordgp[0]])\n",
    "\n",
    "KNOWN = {}\n",
    "def best_guess(ps='ALL'):\n",
    "    if isinstance(ps, str) and ps == 'ALL':\n",
    "        ps_id = 'ALL'\n",
    "        ps = np.arange(n_solutions)\n",
    "    else:\n",
    "        ps_id = get_wordgp_id(ps, WORDGP_DICT)\n",
    "    \n",
    "    if ps_id not in KNOWN:\n",
    "        try_guesses, gp_flags = worthwhile_guesses(fb_grid[:, ps])\n",
    "        guess_sc = []\n",
    "        for g in range(try_guesses.shape[0]):\n",
    "            gp_sc = 0\n",
    "            gps, gp_cts = np.unique(gp_flags[g], return_counts=True)\n",
    "            for gp in range(gps.shape[0]):\n",
    "                if ps_id == 'ALL':\n",
    "                    print(f\"\\rGuess {g+1} of {try_guesses.shape[0]}, Group {gp+1} of {gps.shape[0]}{' '*20}\", end='')\n",
    "                if fb_grid[try_guesses[g], ps[gp_flags[g] == gps[gp]][0]] == '22222':\n",
    "                    gp_sc += float(gp_cts[gp])\n",
    "                else:\n",
    "                    gp_sc += gp_cts[gp] * (best_guess(ps[gp_flags[g] == gps[gp]])[1] + 1)\n",
    "            guess_sc += [gp_sc]\n",
    "        min_ix = np.argmin(guess_sc)\n",
    "        KNOWN[ps_id] = guesses[try_guesses[min_ix]], guess_sc[min_ix]/ps.shape[0]\n",
    "            \n",
    "    return KNOWN[ps_id]"
   ]
  },
  {
   "cell_type": "code",
   "execution_count": null,
   "id": "47f3f2cf-69fa-4769-81e1-727ae4522d71",
   "metadata": {},
   "outputs": [],
   "source": [
    "# best_guess()"
   ]
  },
  {
   "cell_type": "code",
   "execution_count": 3,
   "id": "4b0f786c-4522-460d-87ef-819da8221b28",
   "metadata": {},
   "outputs": [],
   "source": [
    "ps = np.arange(n_solutions)"
   ]
  },
  {
   "cell_type": "code",
   "execution_count": 4,
   "id": "6d3dc106-c8ff-424d-ba90-06424f77c493",
   "metadata": {},
   "outputs": [
    {
     "name": "stdout",
     "output_type": "stream",
     "text": [
      "625\n",
      "10001\n",
      "['BAGEL' 'BAKER' 'BALER' 'BEACH' 'BEADY' 'BEARD' 'BEAST' 'BEGAN' 'BEGAT'\n",
      " 'BLEAK' 'BLEAT' 'BREAD' 'BREAK' 'CADET' 'CAGEY' 'CAMEL' 'CAMEO' 'CAPER'\n",
      " 'CEDAR' 'CHEAP' 'CHEAT' 'CLEAN' 'CLEAR' 'CLEAT' 'CREAK' 'CREAM' 'DEALT'\n",
      " 'DEBAR' 'DECAL' 'DECAY' 'DELAY' 'DREAD' 'DREAM' 'EAGER' 'EASEL' 'FACET'\n",
      " 'FEAST' 'FECAL' 'FELLA' 'FERAL' 'FREAK' 'GAMER' 'GAVEL' 'GAYER' 'GAZER'\n",
      " 'GLEAM' 'GLEAN' 'GREAT' 'HAREM' 'HAVEN' 'HAZEL' 'HEADY' 'HEARD' 'HEART'\n",
      " 'HEAVY' 'IDEAL' 'KEBAB' 'LABEL' 'LADEN' 'LAGER' 'LAPEL' 'LAYER' 'LEACH'\n",
      " 'LEAFY' 'LEAKY' 'LEAPT' 'LEARN' 'LEASH' 'LEAST' 'LEGAL' 'MAKER' 'MEALY'\n",
      " 'MECCA' 'MEDAL' 'MEDIA' 'NAVEL' 'OAKEN' 'OCEAN' 'OMEGA' 'OPERA' 'PALER'\n",
      " 'PAPER' 'PARER' 'PAYER' 'PEACH' 'PEARL' 'PECAN' 'PEDAL' 'PLEAD' 'PLEAT'\n",
      " 'RACER' 'RAMEN' 'RARER' 'RAVEN' 'REACH' 'REACT' 'READY' 'REALM' 'REARM'\n",
      " 'REBAR' 'RECAP' 'REGAL' 'REHAB' 'RELAX' 'RELAY' 'REPAY' 'SAFER' 'SEDAN'\n",
      " 'SEPIA' 'SHEAR' 'SMEAR' 'SPEAK' 'SPEAR' 'SWEAR' 'SWEAT' 'TAKEN' 'TAKER'\n",
      " 'TAMER' 'TAPER' 'TEACH' 'TEARY' 'TERRA' 'TREAD' 'TREAT' 'TWEAK' 'VALET'\n",
      " 'VEGAN' 'WAFER' 'WAGER' 'WAVER' 'WAXEN' 'WEARY' 'WHEAT' 'WREAK' 'YEARN'\n",
      " 'YEAST' 'ZEBRA']\n"
     ]
    }
   ],
   "source": [
    "g1 = guess_ix['ATONE']\n",
    "fb1 = '10001'\n",
    "ps = ps[fb_grid[g1, ps] == fb1]\n",
    "print(g1)\n",
    "print(fb1)\n",
    "print(solutions[ps])"
   ]
  },
  {
   "cell_type": "code",
   "execution_count": null,
   "id": "5744c890-9cc2-4a35-8edf-28ba77e630bc",
   "metadata": {},
   "outputs": [],
   "source": [
    "best_guess(ps)"
   ]
  },
  {
   "cell_type": "code",
   "execution_count": null,
   "id": "b501b48a-0113-495c-b418-aef2f5042e10",
   "metadata": {},
   "outputs": [],
   "source": [
    "ps"
   ]
  },
  {
   "cell_type": "code",
   "execution_count": null,
   "id": "49809502-c7c3-4f6d-8b9e-ea9889e363bb",
   "metadata": {},
   "outputs": [],
   "source": [
    "g2 = guess_ix['SLURP']\n",
    "fb2 = '01000'\n",
    "ps = ps[fb_grid[g2, ps] == fb2]\n",
    "print(g2)\n",
    "print(fb2)\n",
    "print(solutions[ps])"
   ]
  },
  {
   "cell_type": "code",
   "execution_count": null,
   "id": "f47dc86b-e4d7-413e-a212-75af122b9294",
   "metadata": {},
   "outputs": [],
   "source": [
    "best_guess(ps)"
   ]
  },
  {
   "cell_type": "code",
   "execution_count": null,
   "id": "1b710fe3-2edb-4acf-b463-fbabcb15c76b",
   "metadata": {},
   "outputs": [],
   "source": [
    "g3 = guess_ix['LUNGE']\n",
    "fb3 = '02122'\n",
    "ps = ps[fb_grid[g3, ps] == fb3]\n",
    "print(g3)\n",
    "print(fb3)\n",
    "print(solutions[ps])"
   ]
  },
  {
   "cell_type": "code",
   "execution_count": null,
   "id": "86293697-2e82-4ce0-bbad-2153bd528d97",
   "metadata": {},
   "outputs": [],
   "source": [
    "best_guess(ps)"
   ]
  }
 ],
 "metadata": {
  "kernelspec": {
   "display_name": "base",
   "language": "python",
   "name": "python3"
  },
  "language_info": {
   "codemirror_mode": {
    "name": "ipython",
    "version": 3
   },
   "file_extension": ".py",
   "mimetype": "text/x-python",
   "name": "python",
   "nbconvert_exporter": "python",
   "pygments_lexer": "ipython3",
   "version": "3.12.3"
  }
 },
 "nbformat": 4,
 "nbformat_minor": 5
}
